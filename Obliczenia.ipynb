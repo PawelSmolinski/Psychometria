{
  "nbformat": 4,
  "nbformat_minor": 0,
  "metadata": {
    "colab": {
      "provenance": [],
      "authorship_tag": "ABX9TyMNgZkOee6U/6eBl0P1O8+H",
      "include_colab_link": true
    },
    "kernelspec": {
      "name": "ir",
      "display_name": "R"
    },
    "language_info": {
      "name": "R"
    }
  },
  "cells": [
    {
      "cell_type": "markdown",
      "metadata": {
        "id": "view-in-github",
        "colab_type": "text"
      },
      "source": [
        "<a href=\"https://colab.research.google.com/github/PawelSmolinski/Psychometria/blob/main/Obliczenia.ipynb\" target=\"_parent\"><img src=\"https://colab.research.google.com/assets/colab-badge.svg\" alt=\"Open In Colab\"/></a>"
      ]
    },
    {
      "cell_type": "markdown",
      "source": [
        "Przydatne komendy:\n",
        "ctrl + F9 - uruchom wszytsko\n",
        "ctrl + /  - komentuj zaznaczone linijki kodu"
      ],
      "metadata": {
        "id": "Kxjjo0wI19g_"
      }
    },
    {
      "cell_type": "code",
      "source": [
        "# Instalacja pakietów (2-3 minuty)\n",
        "install.packages(\"dplyr\")\n",
        "install.packages(\"psych\")\n",
        "install.packages(\"lavaan\")\n",
        "install.packages(\"corrplot\")\n",
        "install.packages(\"GPArotation\")\n",
        "install.packages(\"semTools\")\n",
        "\n",
        "\n",
        "library('dplyr')\n",
        "library('psych')\n",
        "library('lavaan')\n",
        "library('corrplot')\n",
        "library('GPArotation')\n",
        "library('semTools')"
      ],
      "metadata": {
        "id": "JVi1RLS9xqSP"
      },
      "execution_count": null,
      "outputs": []
    },
    {
      "cell_type": "code",
      "source": [
        "# Wczytanie danych\n",
        "dane <- read.csv('https://raw.githubusercontent.com/PawelSmolinski/Psychometria/main/Dane/Ciemna%20triada/dane50.csv')"
      ],
      "metadata": {
        "id": "roW6nc41xwH3"
      },
      "execution_count": 40,
      "outputs": []
    },
    {
      "cell_type": "code",
      "source": [
        "# Struktura danych\n",
        "str(dane)"
      ],
      "metadata": {
        "id": "uxkTUgI6x02v"
      },
      "execution_count": null,
      "outputs": []
    },
    {
      "cell_type": "code",
      "source": [
        "# Prosate zmienianie nazwy\n",
        "dane <- rename(dane, kraj = country)\n",
        "\n",
        "# Faktoryzacja zmiennej\n",
        "dane$kraj <- as.factor(dane$kraj)"
      ],
      "metadata": {
        "id": "eYAHNcl7x6iP"
      },
      "execution_count": 42,
      "outputs": []
    },
    {
      "cell_type": "code",
      "source": [
        "# Wizualizacja macierzy\n",
        "macierz <- cor(dane[,1:18])\n",
        "\n",
        "corrplot(macierz, method = 'square')"
      ],
      "metadata": {
        "id": "qbDO5uuxyDeW"
      },
      "execution_count": null,
      "outputs": []
    },
    {
      "cell_type": "code",
      "source": [
        "# Statystyki opisowe\n",
        "describe(dane[,1:18])"
      ],
      "metadata": {
        "id": "GdgkBIuwyFNu"
      },
      "execution_count": null,
      "outputs": []
    },
    {
      "cell_type": "code",
      "source": [
        "# Proste rekodowanie\n",
        "dane$N2 <- 6 - dane$N2"
      ],
      "metadata": {
        "id": "v9_Yj1w5ygF-"
      },
      "execution_count": 45,
      "outputs": []
    },
    {
      "cell_type": "code",
      "source": [
        "# Szukanie brakujących wartości\n",
        "which(is.na(dane), arr.ind = TRUE)"
      ],
      "metadata": {
        "id": "HDT7kM-4y2Mu"
      },
      "execution_count": null,
      "outputs": []
    },
    {
      "cell_type": "code",
      "source": [
        "# Rekodowanie wartości brakujących\n",
        "dane$M3[dane$M3 == 0] <- NA\n",
        "dane$N6[dane$N6 == 0] <- NA"
      ],
      "metadata": {
        "id": "le5pClkJyrN-"
      },
      "execution_count": 47,
      "outputs": []
    },
    {
      "cell_type": "code",
      "source": [
        "# Zaawansowane rekodowanie\n",
        "dane <- dane %>%\n",
        "  mutate(across(c(N6,N8), ~recode(.,`1` = 5, `2` = 4, `3` = 3, `4` = 2, `5` = 1)))"
      ],
      "metadata": {
        "id": "umRagqFyyg5P"
      },
      "execution_count": 48,
      "outputs": []
    },
    {
      "cell_type": "code",
      "source": [
        "# Obliczanie wyniku\n",
        "dane$makiawelizm <- rowMeans(dane[,1:9], na.rm = TRUE)\n",
        "dane$narcyzm <- rowMeans(dane[,10:18], na.rm = TRUE)"
      ],
      "metadata": {
        "id": "k-i3OOOyze5F"
      },
      "execution_count": 49,
      "outputs": []
    },
    {
      "cell_type": "code",
      "source": [
        "# Prosty wykres rozkładu\n",
        "hist(dane$makiawelizm, # Nazwa zmiennej\n",
        "     breaks = 15, # Liczba przedziałów\n",
        "     col = \"orange\", # Kolor wypełnienia\n",
        "     border = \"black\", # Kolor obramowania\n",
        "     main = \"Rozkład wyników dla Makiawelizmu\", # Tytuł wykresu\n",
        "     xlab = \"Wynik w teście\", # Etykieta osi X\n",
        "     ylab = \"Ilość osób z wynikiem\") # Etykieta osi Y"
      ],
      "metadata": {
        "id": "UMB9DmWHzgWz"
      },
      "execution_count": null,
      "outputs": []
    },
    {
      "cell_type": "code",
      "source": [
        "# Test t Studenta\n",
        "t.test(makiawelizm ~ kraj, dane)"
      ],
      "metadata": {
        "id": "T0WsFEFe0X8N"
      },
      "execution_count": null,
      "outputs": []
    },
    {
      "cell_type": "code",
      "source": [
        "# Test korelacji\n",
        "cor.test(dane$makiawelizm, dane$narcyzm)"
      ],
      "metadata": {
        "id": "2Lw1iDKF0hjR"
      },
      "execution_count": null,
      "outputs": []
    },
    {
      "cell_type": "code",
      "source": [
        "# Rzetelność (alfa)\n",
        "alfa <- alpha(dane[,1:18])\n",
        "summary(alfa)"
      ],
      "metadata": {
        "id": "TTcoQmLo0nis"
      },
      "execution_count": null,
      "outputs": []
    },
    {
      "cell_type": "code",
      "source": [
        "# Eksploracyjna analiza czynnikowa\n",
        "efa <- fa(dane[,1:18], nfactors =  2)\n",
        "summary(efa)"
      ],
      "metadata": {
        "id": "TdODMHlh0tAQ"
      },
      "execution_count": null,
      "outputs": []
    },
    {
      "cell_type": "code",
      "source": [
        "# Wykres osypiska\n",
        "scree(dane[,1:18])"
      ],
      "metadata": {
        "id": "HonvtQI11H4V"
      },
      "execution_count": null,
      "outputs": []
    },
    {
      "cell_type": "code",
      "source": [
        "# Model strukturalny\n",
        "model <- 'Makiawelizm =~ M1 + M2 + M3 + M4 + M5 + M6 + M7 + M8 + M9\n",
        "          Narcyzm =~ N1 + N2 + N3 + N4 + N5 + N6 + N7 + N8 + N9'"
      ],
      "metadata": {
        "id": "1slf0uga1Tq8"
      },
      "execution_count": 58,
      "outputs": []
    },
    {
      "cell_type": "code",
      "source": [
        "# Konfirmacyjna analiza czynnikowa\n",
        "cfa <- cfa(model, dane)\n",
        "summary(cfa, fit.measures=TRUE)"
      ],
      "metadata": {
        "id": "tDrerT981YYb"
      },
      "execution_count": null,
      "outputs": []
    },
    {
      "cell_type": "code",
      "source": [
        "#Rzetelność Omega dla podscal\n",
        "omegaResults <- semTools::reliability(cfa)\n",
        "print(omegaResults)"
      ],
      "metadata": {
        "id": "7S9OgXSV2e1-"
      },
      "execution_count": null,
      "outputs": []
    },
    {
      "cell_type": "code",
      "source": [],
      "metadata": {
        "id": "itRoCIVI2fh9"
      },
      "execution_count": null,
      "outputs": []
    }
  ]
}