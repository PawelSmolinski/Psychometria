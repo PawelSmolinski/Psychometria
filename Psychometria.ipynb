{
  "nbformat": 4,
  "nbformat_minor": 0,
  "metadata": {
    "colab": {
      "provenance": [],
      "authorship_tag": "ABX9TyPJaI/MZJcgHAayLxnzJbyE",
      "include_colab_link": true
    },
    "kernelspec": {
      "name": "ir",
      "display_name": "R"
    },
    "language_info": {
      "name": "R"
    }
  },
  "cells": [
    {
      "cell_type": "markdown",
      "metadata": {
        "id": "view-in-github",
        "colab_type": "text"
      },
      "source": [
        "<a href=\"https://colab.research.google.com/github/PawelSmolinski/Psychometria/blob/main/Psychometria.ipynb\" target=\"_parent\"><img src=\"https://colab.research.google.com/assets/colab-badge.svg\" alt=\"Open In Colab\"/></a>"
      ]
    },
    {
      "cell_type": "code",
      "execution_count": 8,
      "metadata": {
        "id": "f_WIpA5ok9Y_"
      },
      "outputs": [],
      "source": [
        "dane <- read.csv('https://raw.githubusercontent.com/PawelSmolinski/Psychometria/main/Dane/Ciemna%20triada/data.csv')"
      ]
    },
    {
      "cell_type": "code",
      "source": [
        "View(dane)"
      ],
      "metadata": {
        "colab": {
          "base_uri": "https://localhost:8080/",
          "height": 1000
        },
        "id": "xmWUvPpAoNFT",
        "outputId": "962ff15b-89a9-491a-842e-188a7aebf687"
      },
      "execution_count": 9,
      "outputs": [
        {
          "output_type": "display_data",
          "data": {
            "text/plain": [
              "      M1 M2 M3 M4 M5 M6 M7 M8 M9 N1 ⋯ P2 P3 P4 P5 P6 P7 P8 P9 country source\n",
              "1     4  4  4  4  4  4  4  3  4  2  ⋯ 4  3  2  4  4  4  4  4  GB      1     \n",
              "2     2  1  5  2  2  1  2  2  3  1  ⋯ 1  1  5  4  1  5  3  2  US      1     \n",
              "3     3  3  3  5  1  1  5  5  3  2  ⋯ 5  3  1  3  1  2  3  1  US      1     \n",
              "4     5  5  4  5  5  5  5  5  5  5  ⋯ 1  5  2  5  5  5  1  5  GB      3     \n",
              "5     4  4  2  5  5  5  4  1  4  3  ⋯ 5  3  1  4  3  5  4  1  GB      3     \n",
              "6     4  2  2  4  2  3  5  2  2  2  ⋯ 5  4  4  2  2  1  1  5  IT      1     \n",
              "7     4  4  4  2  4  4  4  3  5  4  ⋯ 2  4  2  4  3  4  4  3  GB      1     \n",
              "8     5  5  5  5  5  5  5  4  5  4  ⋯ 5  2  5  5  5  2  5  3  GB      1     \n",
              "9     5  3  4  4  4  4  4  2  4  3  ⋯ 2  4  3  4  4  1  2  1  US      1     \n",
              "10    5  5  5  3  5  5  5  5  5  5  ⋯ 2  5  5  5  5  5  3  5  US      1     \n",
              "11    5  5  5  5  5  4  1  5  4  4  ⋯ 3  3  3  4  3  2  3  4  US      1     \n",
              "12    5  4  4  3  5  5  5  3  5  5  ⋯ 2  2  1  5  5  2  1  1  GB      1     \n",
              "13    5  1  2  2  1  2  4  1  2  2  ⋯ 2  2  4  4  2  4  1  1  SE      3     \n",
              "14    2  2  3  4  3  3  4  2  4  2  ⋯ 3  3  1  4  4  1  1  2  GB      1     \n",
              "15    5  3  4  4  3  4  5  4  5  5  ⋯ 2  3  3  2  3  3  3  3  GB      3     \n",
              "16    4  5  4  5  4  4  5  4  5  3  ⋯ 2  2  1  2  1  5  1  1  US      1     \n",
              "17    4  3  3  4  2  2  5  2  4  3  ⋯ 3  1  2  3  2  3  3  2  GB      3     \n",
              "18    5  2  4  4  5  4  5  3  4  1  ⋯ 4  3  2  1  2  5  1  2  GB      1     \n",
              "19    5  4  0  2  4  4  4  4  5  3  ⋯ 4  4  2  4  2  2  2  2  US      3     \n",
              "20    4  4  3  2  1  1  4  2  4  3  ⋯ 3  3  1  3  4  5  5  2  US      3     \n",
              "21    5  3  4  4  4  3  5  3  5  4  ⋯ 4  2  1  2  2  1  3  1  US      3     \n",
              "22    5  1  2  2  4  4  5  2  5  2  ⋯ 2  4  2  4  2  2  1  4  GB      1     \n",
              "23    4  5  4  3  5  4  4  3  5  5  ⋯ 3  5  4  4  4  4  4  4  US      2     \n",
              "24    2  5  5  5  2  3  4  4  5  5  ⋯ 3  4  4  4  3  2  4  5  US      1     \n",
              "25    5  5  4  4  5  5  5  5  5  4  ⋯ 2  1  2  5  5  2  5  5  CA      2     \n",
              "26    2  2  2  2  2  2  4  3  4  2  ⋯ 3  2  2  3  2  4  4  2  US      1     \n",
              "27    4  2  3  2  3  3  2  3  2  3  ⋯ 5  2  3  3  2  5  1  1  CA      1     \n",
              "28    5  4  5  5  4  4  5  1  5  1  ⋯ 1  1  2  2  1  4  5  4  US      3     \n",
              "29    2  2  3  3  2  3  3  2  2  4  ⋯ 3  2  2  2  2  4  2  2  GB      1     \n",
              "30    4  3  3  2  2  2  4  3  4  2  ⋯ 4  2  2  4  3  5  4  2  US      3     \n",
              "⋮     ⋮  ⋮  ⋮  ⋮  ⋮  ⋮  ⋮  ⋮  ⋮  ⋮  ⋱ ⋮  ⋮  ⋮  ⋮  ⋮  ⋮  ⋮  ⋮  ⋮       ⋮     \n",
              "18163 4  5  4  4  4  3  5  2  3  3  ⋯ 2  2  4  5  3  4  5  5  US      2     \n",
              "18164 4  2  3  4  3  4  4  2  4  2  ⋯ 4  3  4  4  4  4  2  1  US      1     \n",
              "18165 5  5  5  5  5  5  5  5  5  3  ⋯ 4  1  1  5  5  1  3  4  IE      1     \n",
              "18166 4  4  2  4  5  5  4  3  5  4  ⋯ 1  4  3  4  5  5  4  5  US      1     \n",
              "18167 3  1  3  4  1  2  4  3  4  2  ⋯ 4  2  2  3  2  2  3  4  US      2     \n",
              "18168 4  4  5  2  2  4  4  5  5  4  ⋯ 2  3  2  5  4  1  4  1  US      3     \n",
              "18169 5  4  4  4  2  4  4  2  2  4  ⋯ 3  2  2  3  2  5  2  1  NL      1     \n",
              "18170 4  4  3  4  3  4  5  3  4  2  ⋯ 1  1  5  4  3  2  2  4  GB      2     \n",
              "18171 3  1  2  2  1  2  4  3  3  2  ⋯ 3  2  1  3  1  5  1  1  SE      2     \n",
              "18172 4  1  3  1  2  4  5  5  5  1  ⋯ 5  1  1  4  1  5  3  1  AU      1     \n",
              "18173 4  5  3  3  4  3  5  4  5  4  ⋯ 4  2  3  5  3  5  1  3  AE      1     \n",
              "18174 5  4  5  5  5  5  4  5  4  3  ⋯ 5  1  1  3  4  5  1  4  US      2     \n",
              "18175 4  4  2  2  2  2  0  5  4  3  ⋯ 4  4  4  4  2  1  4  1  FI      3     \n",
              "18176 4  3  3  4  3  5  1  4  5  4  ⋯ 3  5  3  5  3  1  3  4  LK      1     \n",
              "18177 4  4  4  5  4  3  4  3  5  3  ⋯ 1  3  2  4  2  5  5  3  US      3     \n",
              "18178 5  4  4  3  3  3  5  4  3  5  ⋯ 5  2  1  5  4  5  1  1  US      1     \n",
              "18179 5  4  3  4  5  5  5  1  4  3  ⋯ 1  5  1  4  5  5  4  5  SE      3     \n",
              "18180 5  3  5  5  5  2  5  4  5  2  ⋯ 2  1  1  1  2  5  3  5  GB      1     \n",
              "18181 4  4  4  3  4  4  4  4  4  4  ⋯ 3  4  4  4  3  4  1  4  US      2     \n",
              "18182 4  5  5  4  5  4  5  5  5  4  ⋯ 1  2  4  5  5  1  5  5  US      2     \n",
              "18183 5  5  1  5  5  5  5  5  5  3  ⋯ 1  5  5  5  5  1  3  1  MK      1     \n",
              "18184 5  1  2  4  2  3  4  2  4  2  ⋯ 5  1  1  4  2  5  1  1  US      1     \n",
              "18185 5  5  5  4  2  5  5  4  5  5  ⋯ 2  5  5  5  3  1  5  2  US      3     \n",
              "18186 4  4  3  1  4  4  5  5  5  2  ⋯ 4  5  2  5  3  4  1  4  US      1     \n",
              "18187 4  5  4  5  5  5  5  4  5  2  ⋯ 4  3  4  5  4  1  4  5  US      1     \n",
              "18188 1  5  2  4  4  5  4  3  5  4  ⋯ 3  3  3  5  3  2  3  3  US      2     \n",
              "18189 5  4  5  4  5  4  5  4  5  4  ⋯ 2  2  1  5  2  2  3  4  GB      1     \n",
              "18190 4  3  3  4  2  3  4  3  4  3  ⋯ 5  3  1  1  1  2  4  1  US      2     \n",
              "18191 5  4  3  3  4  4  4  3  4  3  ⋯ 3  3  4  4  3  4  1  3  LK      2     \n",
              "18192 4  4  4  5  3  4  4  3  3  3  ⋯ 3  3  2  4  3  3  4  4  US      1     "
            ],
            "text/html": [
              "<table class=\"dataframe\">\n",
              "<caption>A data.frame: 18192 × 29</caption>\n",
              "<thead>\n",
              "\t<tr><th scope=col>M1</th><th scope=col>M2</th><th scope=col>M3</th><th scope=col>M4</th><th scope=col>M5</th><th scope=col>M6</th><th scope=col>M7</th><th scope=col>M8</th><th scope=col>M9</th><th scope=col>N1</th><th scope=col>⋯</th><th scope=col>P2</th><th scope=col>P3</th><th scope=col>P4</th><th scope=col>P5</th><th scope=col>P6</th><th scope=col>P7</th><th scope=col>P8</th><th scope=col>P9</th><th scope=col>country</th><th scope=col>source</th></tr>\n",
              "\t<tr><th scope=col>&lt;int&gt;</th><th scope=col>&lt;int&gt;</th><th scope=col>&lt;int&gt;</th><th scope=col>&lt;int&gt;</th><th scope=col>&lt;int&gt;</th><th scope=col>&lt;int&gt;</th><th scope=col>&lt;int&gt;</th><th scope=col>&lt;int&gt;</th><th scope=col>&lt;int&gt;</th><th scope=col>&lt;int&gt;</th><th scope=col>⋯</th><th scope=col>&lt;int&gt;</th><th scope=col>&lt;int&gt;</th><th scope=col>&lt;int&gt;</th><th scope=col>&lt;int&gt;</th><th scope=col>&lt;int&gt;</th><th scope=col>&lt;int&gt;</th><th scope=col>&lt;int&gt;</th><th scope=col>&lt;int&gt;</th><th scope=col>&lt;chr&gt;</th><th scope=col>&lt;int&gt;</th></tr>\n",
              "</thead>\n",
              "<tbody>\n",
              "\t<tr><td>4</td><td>4</td><td>4</td><td>4</td><td>4</td><td>4</td><td>4</td><td>3</td><td>4</td><td>2</td><td>⋯</td><td>4</td><td>3</td><td>2</td><td>4</td><td>4</td><td>4</td><td>4</td><td>4</td><td>GB</td><td>1</td></tr>\n",
              "\t<tr><td>2</td><td>1</td><td>5</td><td>2</td><td>2</td><td>1</td><td>2</td><td>2</td><td>3</td><td>1</td><td>⋯</td><td>1</td><td>1</td><td>5</td><td>4</td><td>1</td><td>5</td><td>3</td><td>2</td><td>US</td><td>1</td></tr>\n",
              "\t<tr><td>3</td><td>3</td><td>3</td><td>5</td><td>1</td><td>1</td><td>5</td><td>5</td><td>3</td><td>2</td><td>⋯</td><td>5</td><td>3</td><td>1</td><td>3</td><td>1</td><td>2</td><td>3</td><td>1</td><td>US</td><td>1</td></tr>\n",
              "\t<tr><td>5</td><td>5</td><td>4</td><td>5</td><td>5</td><td>5</td><td>5</td><td>5</td><td>5</td><td>5</td><td>⋯</td><td>1</td><td>5</td><td>2</td><td>5</td><td>5</td><td>5</td><td>1</td><td>5</td><td>GB</td><td>3</td></tr>\n",
              "\t<tr><td>4</td><td>4</td><td>2</td><td>5</td><td>5</td><td>5</td><td>4</td><td>1</td><td>4</td><td>3</td><td>⋯</td><td>5</td><td>3</td><td>1</td><td>4</td><td>3</td><td>5</td><td>4</td><td>1</td><td>GB</td><td>3</td></tr>\n",
              "\t<tr><td>4</td><td>2</td><td>2</td><td>4</td><td>2</td><td>3</td><td>5</td><td>2</td><td>2</td><td>2</td><td>⋯</td><td>5</td><td>4</td><td>4</td><td>2</td><td>2</td><td>1</td><td>1</td><td>5</td><td>IT</td><td>1</td></tr>\n",
              "\t<tr><td>4</td><td>4</td><td>4</td><td>2</td><td>4</td><td>4</td><td>4</td><td>3</td><td>5</td><td>4</td><td>⋯</td><td>2</td><td>4</td><td>2</td><td>4</td><td>3</td><td>4</td><td>4</td><td>3</td><td>GB</td><td>1</td></tr>\n",
              "\t<tr><td>5</td><td>5</td><td>5</td><td>5</td><td>5</td><td>5</td><td>5</td><td>4</td><td>5</td><td>4</td><td>⋯</td><td>5</td><td>2</td><td>5</td><td>5</td><td>5</td><td>2</td><td>5</td><td>3</td><td>GB</td><td>1</td></tr>\n",
              "\t<tr><td>5</td><td>3</td><td>4</td><td>4</td><td>4</td><td>4</td><td>4</td><td>2</td><td>4</td><td>3</td><td>⋯</td><td>2</td><td>4</td><td>3</td><td>4</td><td>4</td><td>1</td><td>2</td><td>1</td><td>US</td><td>1</td></tr>\n",
              "\t<tr><td>5</td><td>5</td><td>5</td><td>3</td><td>5</td><td>5</td><td>5</td><td>5</td><td>5</td><td>5</td><td>⋯</td><td>2</td><td>5</td><td>5</td><td>5</td><td>5</td><td>5</td><td>3</td><td>5</td><td>US</td><td>1</td></tr>\n",
              "\t<tr><td>5</td><td>5</td><td>5</td><td>5</td><td>5</td><td>4</td><td>1</td><td>5</td><td>4</td><td>4</td><td>⋯</td><td>3</td><td>3</td><td>3</td><td>4</td><td>3</td><td>2</td><td>3</td><td>4</td><td>US</td><td>1</td></tr>\n",
              "\t<tr><td>5</td><td>4</td><td>4</td><td>3</td><td>5</td><td>5</td><td>5</td><td>3</td><td>5</td><td>5</td><td>⋯</td><td>2</td><td>2</td><td>1</td><td>5</td><td>5</td><td>2</td><td>1</td><td>1</td><td>GB</td><td>1</td></tr>\n",
              "\t<tr><td>5</td><td>1</td><td>2</td><td>2</td><td>1</td><td>2</td><td>4</td><td>1</td><td>2</td><td>2</td><td>⋯</td><td>2</td><td>2</td><td>4</td><td>4</td><td>2</td><td>4</td><td>1</td><td>1</td><td>SE</td><td>3</td></tr>\n",
              "\t<tr><td>2</td><td>2</td><td>3</td><td>4</td><td>3</td><td>3</td><td>4</td><td>2</td><td>4</td><td>2</td><td>⋯</td><td>3</td><td>3</td><td>1</td><td>4</td><td>4</td><td>1</td><td>1</td><td>2</td><td>GB</td><td>1</td></tr>\n",
              "\t<tr><td>5</td><td>3</td><td>4</td><td>4</td><td>3</td><td>4</td><td>5</td><td>4</td><td>5</td><td>5</td><td>⋯</td><td>2</td><td>3</td><td>3</td><td>2</td><td>3</td><td>3</td><td>3</td><td>3</td><td>GB</td><td>3</td></tr>\n",
              "\t<tr><td>4</td><td>5</td><td>4</td><td>5</td><td>4</td><td>4</td><td>5</td><td>4</td><td>5</td><td>3</td><td>⋯</td><td>2</td><td>2</td><td>1</td><td>2</td><td>1</td><td>5</td><td>1</td><td>1</td><td>US</td><td>1</td></tr>\n",
              "\t<tr><td>4</td><td>3</td><td>3</td><td>4</td><td>2</td><td>2</td><td>5</td><td>2</td><td>4</td><td>3</td><td>⋯</td><td>3</td><td>1</td><td>2</td><td>3</td><td>2</td><td>3</td><td>3</td><td>2</td><td>GB</td><td>3</td></tr>\n",
              "\t<tr><td>5</td><td>2</td><td>4</td><td>4</td><td>5</td><td>4</td><td>5</td><td>3</td><td>4</td><td>1</td><td>⋯</td><td>4</td><td>3</td><td>2</td><td>1</td><td>2</td><td>5</td><td>1</td><td>2</td><td>GB</td><td>1</td></tr>\n",
              "\t<tr><td>5</td><td>4</td><td>0</td><td>2</td><td>4</td><td>4</td><td>4</td><td>4</td><td>5</td><td>3</td><td>⋯</td><td>4</td><td>4</td><td>2</td><td>4</td><td>2</td><td>2</td><td>2</td><td>2</td><td>US</td><td>3</td></tr>\n",
              "\t<tr><td>4</td><td>4</td><td>3</td><td>2</td><td>1</td><td>1</td><td>4</td><td>2</td><td>4</td><td>3</td><td>⋯</td><td>3</td><td>3</td><td>1</td><td>3</td><td>4</td><td>5</td><td>5</td><td>2</td><td>US</td><td>3</td></tr>\n",
              "\t<tr><td>5</td><td>3</td><td>4</td><td>4</td><td>4</td><td>3</td><td>5</td><td>3</td><td>5</td><td>4</td><td>⋯</td><td>4</td><td>2</td><td>1</td><td>2</td><td>2</td><td>1</td><td>3</td><td>1</td><td>US</td><td>3</td></tr>\n",
              "\t<tr><td>5</td><td>1</td><td>2</td><td>2</td><td>4</td><td>4</td><td>5</td><td>2</td><td>5</td><td>2</td><td>⋯</td><td>2</td><td>4</td><td>2</td><td>4</td><td>2</td><td>2</td><td>1</td><td>4</td><td>GB</td><td>1</td></tr>\n",
              "\t<tr><td>4</td><td>5</td><td>4</td><td>3</td><td>5</td><td>4</td><td>4</td><td>3</td><td>5</td><td>5</td><td>⋯</td><td>3</td><td>5</td><td>4</td><td>4</td><td>4</td><td>4</td><td>4</td><td>4</td><td>US</td><td>2</td></tr>\n",
              "\t<tr><td>2</td><td>5</td><td>5</td><td>5</td><td>2</td><td>3</td><td>4</td><td>4</td><td>5</td><td>5</td><td>⋯</td><td>3</td><td>4</td><td>4</td><td>4</td><td>3</td><td>2</td><td>4</td><td>5</td><td>US</td><td>1</td></tr>\n",
              "\t<tr><td>5</td><td>5</td><td>4</td><td>4</td><td>5</td><td>5</td><td>5</td><td>5</td><td>5</td><td>4</td><td>⋯</td><td>2</td><td>1</td><td>2</td><td>5</td><td>5</td><td>2</td><td>5</td><td>5</td><td>CA</td><td>2</td></tr>\n",
              "\t<tr><td>2</td><td>2</td><td>2</td><td>2</td><td>2</td><td>2</td><td>4</td><td>3</td><td>4</td><td>2</td><td>⋯</td><td>3</td><td>2</td><td>2</td><td>3</td><td>2</td><td>4</td><td>4</td><td>2</td><td>US</td><td>1</td></tr>\n",
              "\t<tr><td>4</td><td>2</td><td>3</td><td>2</td><td>3</td><td>3</td><td>2</td><td>3</td><td>2</td><td>3</td><td>⋯</td><td>5</td><td>2</td><td>3</td><td>3</td><td>2</td><td>5</td><td>1</td><td>1</td><td>CA</td><td>1</td></tr>\n",
              "\t<tr><td>5</td><td>4</td><td>5</td><td>5</td><td>4</td><td>4</td><td>5</td><td>1</td><td>5</td><td>1</td><td>⋯</td><td>1</td><td>1</td><td>2</td><td>2</td><td>1</td><td>4</td><td>5</td><td>4</td><td>US</td><td>3</td></tr>\n",
              "\t<tr><td>2</td><td>2</td><td>3</td><td>3</td><td>2</td><td>3</td><td>3</td><td>2</td><td>2</td><td>4</td><td>⋯</td><td>3</td><td>2</td><td>2</td><td>2</td><td>2</td><td>4</td><td>2</td><td>2</td><td>GB</td><td>1</td></tr>\n",
              "\t<tr><td>4</td><td>3</td><td>3</td><td>2</td><td>2</td><td>2</td><td>4</td><td>3</td><td>4</td><td>2</td><td>⋯</td><td>4</td><td>2</td><td>2</td><td>4</td><td>3</td><td>5</td><td>4</td><td>2</td><td>US</td><td>3</td></tr>\n",
              "\t<tr><td>⋮</td><td>⋮</td><td>⋮</td><td>⋮</td><td>⋮</td><td>⋮</td><td>⋮</td><td>⋮</td><td>⋮</td><td>⋮</td><td>⋱</td><td>⋮</td><td>⋮</td><td>⋮</td><td>⋮</td><td>⋮</td><td>⋮</td><td>⋮</td><td>⋮</td><td>⋮</td><td>⋮</td></tr>\n",
              "\t<tr><td>4</td><td>5</td><td>4</td><td>4</td><td>4</td><td>3</td><td>5</td><td>2</td><td>3</td><td>3</td><td>⋯</td><td>2</td><td>2</td><td>4</td><td>5</td><td>3</td><td>4</td><td>5</td><td>5</td><td>US</td><td>2</td></tr>\n",
              "\t<tr><td>4</td><td>2</td><td>3</td><td>4</td><td>3</td><td>4</td><td>4</td><td>2</td><td>4</td><td>2</td><td>⋯</td><td>4</td><td>3</td><td>4</td><td>4</td><td>4</td><td>4</td><td>2</td><td>1</td><td>US</td><td>1</td></tr>\n",
              "\t<tr><td>5</td><td>5</td><td>5</td><td>5</td><td>5</td><td>5</td><td>5</td><td>5</td><td>5</td><td>3</td><td>⋯</td><td>4</td><td>1</td><td>1</td><td>5</td><td>5</td><td>1</td><td>3</td><td>4</td><td>IE</td><td>1</td></tr>\n",
              "\t<tr><td>4</td><td>4</td><td>2</td><td>4</td><td>5</td><td>5</td><td>4</td><td>3</td><td>5</td><td>4</td><td>⋯</td><td>1</td><td>4</td><td>3</td><td>4</td><td>5</td><td>5</td><td>4</td><td>5</td><td>US</td><td>1</td></tr>\n",
              "\t<tr><td>3</td><td>1</td><td>3</td><td>4</td><td>1</td><td>2</td><td>4</td><td>3</td><td>4</td><td>2</td><td>⋯</td><td>4</td><td>2</td><td>2</td><td>3</td><td>2</td><td>2</td><td>3</td><td>4</td><td>US</td><td>2</td></tr>\n",
              "\t<tr><td>4</td><td>4</td><td>5</td><td>2</td><td>2</td><td>4</td><td>4</td><td>5</td><td>5</td><td>4</td><td>⋯</td><td>2</td><td>3</td><td>2</td><td>5</td><td>4</td><td>1</td><td>4</td><td>1</td><td>US</td><td>3</td></tr>\n",
              "\t<tr><td>5</td><td>4</td><td>4</td><td>4</td><td>2</td><td>4</td><td>4</td><td>2</td><td>2</td><td>4</td><td>⋯</td><td>3</td><td>2</td><td>2</td><td>3</td><td>2</td><td>5</td><td>2</td><td>1</td><td>NL</td><td>1</td></tr>\n",
              "\t<tr><td>4</td><td>4</td><td>3</td><td>4</td><td>3</td><td>4</td><td>5</td><td>3</td><td>4</td><td>2</td><td>⋯</td><td>1</td><td>1</td><td>5</td><td>4</td><td>3</td><td>2</td><td>2</td><td>4</td><td>GB</td><td>2</td></tr>\n",
              "\t<tr><td>3</td><td>1</td><td>2</td><td>2</td><td>1</td><td>2</td><td>4</td><td>3</td><td>3</td><td>2</td><td>⋯</td><td>3</td><td>2</td><td>1</td><td>3</td><td>1</td><td>5</td><td>1</td><td>1</td><td>SE</td><td>2</td></tr>\n",
              "\t<tr><td>4</td><td>1</td><td>3</td><td>1</td><td>2</td><td>4</td><td>5</td><td>5</td><td>5</td><td>1</td><td>⋯</td><td>5</td><td>1</td><td>1</td><td>4</td><td>1</td><td>5</td><td>3</td><td>1</td><td>AU</td><td>1</td></tr>\n",
              "\t<tr><td>4</td><td>5</td><td>3</td><td>3</td><td>4</td><td>3</td><td>5</td><td>4</td><td>5</td><td>4</td><td>⋯</td><td>4</td><td>2</td><td>3</td><td>5</td><td>3</td><td>5</td><td>1</td><td>3</td><td>AE</td><td>1</td></tr>\n",
              "\t<tr><td>5</td><td>4</td><td>5</td><td>5</td><td>5</td><td>5</td><td>4</td><td>5</td><td>4</td><td>3</td><td>⋯</td><td>5</td><td>1</td><td>1</td><td>3</td><td>4</td><td>5</td><td>1</td><td>4</td><td>US</td><td>2</td></tr>\n",
              "\t<tr><td>4</td><td>4</td><td>2</td><td>2</td><td>2</td><td>2</td><td>0</td><td>5</td><td>4</td><td>3</td><td>⋯</td><td>4</td><td>4</td><td>4</td><td>4</td><td>2</td><td>1</td><td>4</td><td>1</td><td>FI</td><td>3</td></tr>\n",
              "\t<tr><td>4</td><td>3</td><td>3</td><td>4</td><td>3</td><td>5</td><td>1</td><td>4</td><td>5</td><td>4</td><td>⋯</td><td>3</td><td>5</td><td>3</td><td>5</td><td>3</td><td>1</td><td>3</td><td>4</td><td>LK</td><td>1</td></tr>\n",
              "\t<tr><td>4</td><td>4</td><td>4</td><td>5</td><td>4</td><td>3</td><td>4</td><td>3</td><td>5</td><td>3</td><td>⋯</td><td>1</td><td>3</td><td>2</td><td>4</td><td>2</td><td>5</td><td>5</td><td>3</td><td>US</td><td>3</td></tr>\n",
              "\t<tr><td>5</td><td>4</td><td>4</td><td>3</td><td>3</td><td>3</td><td>5</td><td>4</td><td>3</td><td>5</td><td>⋯</td><td>5</td><td>2</td><td>1</td><td>5</td><td>4</td><td>5</td><td>1</td><td>1</td><td>US</td><td>1</td></tr>\n",
              "\t<tr><td>5</td><td>4</td><td>3</td><td>4</td><td>5</td><td>5</td><td>5</td><td>1</td><td>4</td><td>3</td><td>⋯</td><td>1</td><td>5</td><td>1</td><td>4</td><td>5</td><td>5</td><td>4</td><td>5</td><td>SE</td><td>3</td></tr>\n",
              "\t<tr><td>5</td><td>3</td><td>5</td><td>5</td><td>5</td><td>2</td><td>5</td><td>4</td><td>5</td><td>2</td><td>⋯</td><td>2</td><td>1</td><td>1</td><td>1</td><td>2</td><td>5</td><td>3</td><td>5</td><td>GB</td><td>1</td></tr>\n",
              "\t<tr><td>4</td><td>4</td><td>4</td><td>3</td><td>4</td><td>4</td><td>4</td><td>4</td><td>4</td><td>4</td><td>⋯</td><td>3</td><td>4</td><td>4</td><td>4</td><td>3</td><td>4</td><td>1</td><td>4</td><td>US</td><td>2</td></tr>\n",
              "\t<tr><td>4</td><td>5</td><td>5</td><td>4</td><td>5</td><td>4</td><td>5</td><td>5</td><td>5</td><td>4</td><td>⋯</td><td>1</td><td>2</td><td>4</td><td>5</td><td>5</td><td>1</td><td>5</td><td>5</td><td>US</td><td>2</td></tr>\n",
              "\t<tr><td>5</td><td>5</td><td>1</td><td>5</td><td>5</td><td>5</td><td>5</td><td>5</td><td>5</td><td>3</td><td>⋯</td><td>1</td><td>5</td><td>5</td><td>5</td><td>5</td><td>1</td><td>3</td><td>1</td><td>MK</td><td>1</td></tr>\n",
              "\t<tr><td>5</td><td>1</td><td>2</td><td>4</td><td>2</td><td>3</td><td>4</td><td>2</td><td>4</td><td>2</td><td>⋯</td><td>5</td><td>1</td><td>1</td><td>4</td><td>2</td><td>5</td><td>1</td><td>1</td><td>US</td><td>1</td></tr>\n",
              "\t<tr><td>5</td><td>5</td><td>5</td><td>4</td><td>2</td><td>5</td><td>5</td><td>4</td><td>5</td><td>5</td><td>⋯</td><td>2</td><td>5</td><td>5</td><td>5</td><td>3</td><td>1</td><td>5</td><td>2</td><td>US</td><td>3</td></tr>\n",
              "\t<tr><td>4</td><td>4</td><td>3</td><td>1</td><td>4</td><td>4</td><td>5</td><td>5</td><td>5</td><td>2</td><td>⋯</td><td>4</td><td>5</td><td>2</td><td>5</td><td>3</td><td>4</td><td>1</td><td>4</td><td>US</td><td>1</td></tr>\n",
              "\t<tr><td>4</td><td>5</td><td>4</td><td>5</td><td>5</td><td>5</td><td>5</td><td>4</td><td>5</td><td>2</td><td>⋯</td><td>4</td><td>3</td><td>4</td><td>5</td><td>4</td><td>1</td><td>4</td><td>5</td><td>US</td><td>1</td></tr>\n",
              "\t<tr><td>1</td><td>5</td><td>2</td><td>4</td><td>4</td><td>5</td><td>4</td><td>3</td><td>5</td><td>4</td><td>⋯</td><td>3</td><td>3</td><td>3</td><td>5</td><td>3</td><td>2</td><td>3</td><td>3</td><td>US</td><td>2</td></tr>\n",
              "\t<tr><td>5</td><td>4</td><td>5</td><td>4</td><td>5</td><td>4</td><td>5</td><td>4</td><td>5</td><td>4</td><td>⋯</td><td>2</td><td>2</td><td>1</td><td>5</td><td>2</td><td>2</td><td>3</td><td>4</td><td>GB</td><td>1</td></tr>\n",
              "\t<tr><td>4</td><td>3</td><td>3</td><td>4</td><td>2</td><td>3</td><td>4</td><td>3</td><td>4</td><td>3</td><td>⋯</td><td>5</td><td>3</td><td>1</td><td>1</td><td>1</td><td>2</td><td>4</td><td>1</td><td>US</td><td>2</td></tr>\n",
              "\t<tr><td>5</td><td>4</td><td>3</td><td>3</td><td>4</td><td>4</td><td>4</td><td>3</td><td>4</td><td>3</td><td>⋯</td><td>3</td><td>3</td><td>4</td><td>4</td><td>3</td><td>4</td><td>1</td><td>3</td><td>LK</td><td>2</td></tr>\n",
              "\t<tr><td>4</td><td>4</td><td>4</td><td>5</td><td>3</td><td>4</td><td>4</td><td>3</td><td>3</td><td>3</td><td>⋯</td><td>3</td><td>3</td><td>2</td><td>4</td><td>3</td><td>3</td><td>4</td><td>4</td><td>US</td><td>1</td></tr>\n",
              "</tbody>\n",
              "</table>\n"
            ],
            "text/markdown": "\nA data.frame: 18192 × 29\n\n| M1 &lt;int&gt; | M2 &lt;int&gt; | M3 &lt;int&gt; | M4 &lt;int&gt; | M5 &lt;int&gt; | M6 &lt;int&gt; | M7 &lt;int&gt; | M8 &lt;int&gt; | M9 &lt;int&gt; | N1 &lt;int&gt; | ⋯ ⋯ | P2 &lt;int&gt; | P3 &lt;int&gt; | P4 &lt;int&gt; | P5 &lt;int&gt; | P6 &lt;int&gt; | P7 &lt;int&gt; | P8 &lt;int&gt; | P9 &lt;int&gt; | country &lt;chr&gt; | source &lt;int&gt; |\n|---|---|---|---|---|---|---|---|---|---|---|---|---|---|---|---|---|---|---|---|---|\n| 4 | 4 | 4 | 4 | 4 | 4 | 4 | 3 | 4 | 2 | ⋯ | 4 | 3 | 2 | 4 | 4 | 4 | 4 | 4 | GB | 1 |\n| 2 | 1 | 5 | 2 | 2 | 1 | 2 | 2 | 3 | 1 | ⋯ | 1 | 1 | 5 | 4 | 1 | 5 | 3 | 2 | US | 1 |\n| 3 | 3 | 3 | 5 | 1 | 1 | 5 | 5 | 3 | 2 | ⋯ | 5 | 3 | 1 | 3 | 1 | 2 | 3 | 1 | US | 1 |\n| 5 | 5 | 4 | 5 | 5 | 5 | 5 | 5 | 5 | 5 | ⋯ | 1 | 5 | 2 | 5 | 5 | 5 | 1 | 5 | GB | 3 |\n| 4 | 4 | 2 | 5 | 5 | 5 | 4 | 1 | 4 | 3 | ⋯ | 5 | 3 | 1 | 4 | 3 | 5 | 4 | 1 | GB | 3 |\n| 4 | 2 | 2 | 4 | 2 | 3 | 5 | 2 | 2 | 2 | ⋯ | 5 | 4 | 4 | 2 | 2 | 1 | 1 | 5 | IT | 1 |\n| 4 | 4 | 4 | 2 | 4 | 4 | 4 | 3 | 5 | 4 | ⋯ | 2 | 4 | 2 | 4 | 3 | 4 | 4 | 3 | GB | 1 |\n| 5 | 5 | 5 | 5 | 5 | 5 | 5 | 4 | 5 | 4 | ⋯ | 5 | 2 | 5 | 5 | 5 | 2 | 5 | 3 | GB | 1 |\n| 5 | 3 | 4 | 4 | 4 | 4 | 4 | 2 | 4 | 3 | ⋯ | 2 | 4 | 3 | 4 | 4 | 1 | 2 | 1 | US | 1 |\n| 5 | 5 | 5 | 3 | 5 | 5 | 5 | 5 | 5 | 5 | ⋯ | 2 | 5 | 5 | 5 | 5 | 5 | 3 | 5 | US | 1 |\n| 5 | 5 | 5 | 5 | 5 | 4 | 1 | 5 | 4 | 4 | ⋯ | 3 | 3 | 3 | 4 | 3 | 2 | 3 | 4 | US | 1 |\n| 5 | 4 | 4 | 3 | 5 | 5 | 5 | 3 | 5 | 5 | ⋯ | 2 | 2 | 1 | 5 | 5 | 2 | 1 | 1 | GB | 1 |\n| 5 | 1 | 2 | 2 | 1 | 2 | 4 | 1 | 2 | 2 | ⋯ | 2 | 2 | 4 | 4 | 2 | 4 | 1 | 1 | SE | 3 |\n| 2 | 2 | 3 | 4 | 3 | 3 | 4 | 2 | 4 | 2 | ⋯ | 3 | 3 | 1 | 4 | 4 | 1 | 1 | 2 | GB | 1 |\n| 5 | 3 | 4 | 4 | 3 | 4 | 5 | 4 | 5 | 5 | ⋯ | 2 | 3 | 3 | 2 | 3 | 3 | 3 | 3 | GB | 3 |\n| 4 | 5 | 4 | 5 | 4 | 4 | 5 | 4 | 5 | 3 | ⋯ | 2 | 2 | 1 | 2 | 1 | 5 | 1 | 1 | US | 1 |\n| 4 | 3 | 3 | 4 | 2 | 2 | 5 | 2 | 4 | 3 | ⋯ | 3 | 1 | 2 | 3 | 2 | 3 | 3 | 2 | GB | 3 |\n| 5 | 2 | 4 | 4 | 5 | 4 | 5 | 3 | 4 | 1 | ⋯ | 4 | 3 | 2 | 1 | 2 | 5 | 1 | 2 | GB | 1 |\n| 5 | 4 | 0 | 2 | 4 | 4 | 4 | 4 | 5 | 3 | ⋯ | 4 | 4 | 2 | 4 | 2 | 2 | 2 | 2 | US | 3 |\n| 4 | 4 | 3 | 2 | 1 | 1 | 4 | 2 | 4 | 3 | ⋯ | 3 | 3 | 1 | 3 | 4 | 5 | 5 | 2 | US | 3 |\n| 5 | 3 | 4 | 4 | 4 | 3 | 5 | 3 | 5 | 4 | ⋯ | 4 | 2 | 1 | 2 | 2 | 1 | 3 | 1 | US | 3 |\n| 5 | 1 | 2 | 2 | 4 | 4 | 5 | 2 | 5 | 2 | ⋯ | 2 | 4 | 2 | 4 | 2 | 2 | 1 | 4 | GB | 1 |\n| 4 | 5 | 4 | 3 | 5 | 4 | 4 | 3 | 5 | 5 | ⋯ | 3 | 5 | 4 | 4 | 4 | 4 | 4 | 4 | US | 2 |\n| 2 | 5 | 5 | 5 | 2 | 3 | 4 | 4 | 5 | 5 | ⋯ | 3 | 4 | 4 | 4 | 3 | 2 | 4 | 5 | US | 1 |\n| 5 | 5 | 4 | 4 | 5 | 5 | 5 | 5 | 5 | 4 | ⋯ | 2 | 1 | 2 | 5 | 5 | 2 | 5 | 5 | CA | 2 |\n| 2 | 2 | 2 | 2 | 2 | 2 | 4 | 3 | 4 | 2 | ⋯ | 3 | 2 | 2 | 3 | 2 | 4 | 4 | 2 | US | 1 |\n| 4 | 2 | 3 | 2 | 3 | 3 | 2 | 3 | 2 | 3 | ⋯ | 5 | 2 | 3 | 3 | 2 | 5 | 1 | 1 | CA | 1 |\n| 5 | 4 | 5 | 5 | 4 | 4 | 5 | 1 | 5 | 1 | ⋯ | 1 | 1 | 2 | 2 | 1 | 4 | 5 | 4 | US | 3 |\n| 2 | 2 | 3 | 3 | 2 | 3 | 3 | 2 | 2 | 4 | ⋯ | 3 | 2 | 2 | 2 | 2 | 4 | 2 | 2 | GB | 1 |\n| 4 | 3 | 3 | 2 | 2 | 2 | 4 | 3 | 4 | 2 | ⋯ | 4 | 2 | 2 | 4 | 3 | 5 | 4 | 2 | US | 3 |\n| ⋮ | ⋮ | ⋮ | ⋮ | ⋮ | ⋮ | ⋮ | ⋮ | ⋮ | ⋮ | ⋱ | ⋮ | ⋮ | ⋮ | ⋮ | ⋮ | ⋮ | ⋮ | ⋮ | ⋮ | ⋮ |\n| 4 | 5 | 4 | 4 | 4 | 3 | 5 | 2 | 3 | 3 | ⋯ | 2 | 2 | 4 | 5 | 3 | 4 | 5 | 5 | US | 2 |\n| 4 | 2 | 3 | 4 | 3 | 4 | 4 | 2 | 4 | 2 | ⋯ | 4 | 3 | 4 | 4 | 4 | 4 | 2 | 1 | US | 1 |\n| 5 | 5 | 5 | 5 | 5 | 5 | 5 | 5 | 5 | 3 | ⋯ | 4 | 1 | 1 | 5 | 5 | 1 | 3 | 4 | IE | 1 |\n| 4 | 4 | 2 | 4 | 5 | 5 | 4 | 3 | 5 | 4 | ⋯ | 1 | 4 | 3 | 4 | 5 | 5 | 4 | 5 | US | 1 |\n| 3 | 1 | 3 | 4 | 1 | 2 | 4 | 3 | 4 | 2 | ⋯ | 4 | 2 | 2 | 3 | 2 | 2 | 3 | 4 | US | 2 |\n| 4 | 4 | 5 | 2 | 2 | 4 | 4 | 5 | 5 | 4 | ⋯ | 2 | 3 | 2 | 5 | 4 | 1 | 4 | 1 | US | 3 |\n| 5 | 4 | 4 | 4 | 2 | 4 | 4 | 2 | 2 | 4 | ⋯ | 3 | 2 | 2 | 3 | 2 | 5 | 2 | 1 | NL | 1 |\n| 4 | 4 | 3 | 4 | 3 | 4 | 5 | 3 | 4 | 2 | ⋯ | 1 | 1 | 5 | 4 | 3 | 2 | 2 | 4 | GB | 2 |\n| 3 | 1 | 2 | 2 | 1 | 2 | 4 | 3 | 3 | 2 | ⋯ | 3 | 2 | 1 | 3 | 1 | 5 | 1 | 1 | SE | 2 |\n| 4 | 1 | 3 | 1 | 2 | 4 | 5 | 5 | 5 | 1 | ⋯ | 5 | 1 | 1 | 4 | 1 | 5 | 3 | 1 | AU | 1 |\n| 4 | 5 | 3 | 3 | 4 | 3 | 5 | 4 | 5 | 4 | ⋯ | 4 | 2 | 3 | 5 | 3 | 5 | 1 | 3 | AE | 1 |\n| 5 | 4 | 5 | 5 | 5 | 5 | 4 | 5 | 4 | 3 | ⋯ | 5 | 1 | 1 | 3 | 4 | 5 | 1 | 4 | US | 2 |\n| 4 | 4 | 2 | 2 | 2 | 2 | 0 | 5 | 4 | 3 | ⋯ | 4 | 4 | 4 | 4 | 2 | 1 | 4 | 1 | FI | 3 |\n| 4 | 3 | 3 | 4 | 3 | 5 | 1 | 4 | 5 | 4 | ⋯ | 3 | 5 | 3 | 5 | 3 | 1 | 3 | 4 | LK | 1 |\n| 4 | 4 | 4 | 5 | 4 | 3 | 4 | 3 | 5 | 3 | ⋯ | 1 | 3 | 2 | 4 | 2 | 5 | 5 | 3 | US | 3 |\n| 5 | 4 | 4 | 3 | 3 | 3 | 5 | 4 | 3 | 5 | ⋯ | 5 | 2 | 1 | 5 | 4 | 5 | 1 | 1 | US | 1 |\n| 5 | 4 | 3 | 4 | 5 | 5 | 5 | 1 | 4 | 3 | ⋯ | 1 | 5 | 1 | 4 | 5 | 5 | 4 | 5 | SE | 3 |\n| 5 | 3 | 5 | 5 | 5 | 2 | 5 | 4 | 5 | 2 | ⋯ | 2 | 1 | 1 | 1 | 2 | 5 | 3 | 5 | GB | 1 |\n| 4 | 4 | 4 | 3 | 4 | 4 | 4 | 4 | 4 | 4 | ⋯ | 3 | 4 | 4 | 4 | 3 | 4 | 1 | 4 | US | 2 |\n| 4 | 5 | 5 | 4 | 5 | 4 | 5 | 5 | 5 | 4 | ⋯ | 1 | 2 | 4 | 5 | 5 | 1 | 5 | 5 | US | 2 |\n| 5 | 5 | 1 | 5 | 5 | 5 | 5 | 5 | 5 | 3 | ⋯ | 1 | 5 | 5 | 5 | 5 | 1 | 3 | 1 | MK | 1 |\n| 5 | 1 | 2 | 4 | 2 | 3 | 4 | 2 | 4 | 2 | ⋯ | 5 | 1 | 1 | 4 | 2 | 5 | 1 | 1 | US | 1 |\n| 5 | 5 | 5 | 4 | 2 | 5 | 5 | 4 | 5 | 5 | ⋯ | 2 | 5 | 5 | 5 | 3 | 1 | 5 | 2 | US | 3 |\n| 4 | 4 | 3 | 1 | 4 | 4 | 5 | 5 | 5 | 2 | ⋯ | 4 | 5 | 2 | 5 | 3 | 4 | 1 | 4 | US | 1 |\n| 4 | 5 | 4 | 5 | 5 | 5 | 5 | 4 | 5 | 2 | ⋯ | 4 | 3 | 4 | 5 | 4 | 1 | 4 | 5 | US | 1 |\n| 1 | 5 | 2 | 4 | 4 | 5 | 4 | 3 | 5 | 4 | ⋯ | 3 | 3 | 3 | 5 | 3 | 2 | 3 | 3 | US | 2 |\n| 5 | 4 | 5 | 4 | 5 | 4 | 5 | 4 | 5 | 4 | ⋯ | 2 | 2 | 1 | 5 | 2 | 2 | 3 | 4 | GB | 1 |\n| 4 | 3 | 3 | 4 | 2 | 3 | 4 | 3 | 4 | 3 | ⋯ | 5 | 3 | 1 | 1 | 1 | 2 | 4 | 1 | US | 2 |\n| 5 | 4 | 3 | 3 | 4 | 4 | 4 | 3 | 4 | 3 | ⋯ | 3 | 3 | 4 | 4 | 3 | 4 | 1 | 3 | LK | 2 |\n| 4 | 4 | 4 | 5 | 3 | 4 | 4 | 3 | 3 | 3 | ⋯ | 3 | 3 | 2 | 4 | 3 | 3 | 4 | 4 | US | 1 |\n\n",
            "text/latex": "A data.frame: 18192 × 29\n\\begin{tabular}{lllllllllllllllllllll}\n M1 & M2 & M3 & M4 & M5 & M6 & M7 & M8 & M9 & N1 & ⋯ & P2 & P3 & P4 & P5 & P6 & P7 & P8 & P9 & country & source\\\\\n <int> & <int> & <int> & <int> & <int> & <int> & <int> & <int> & <int> & <int> & ⋯ & <int> & <int> & <int> & <int> & <int> & <int> & <int> & <int> & <chr> & <int>\\\\\n\\hline\n\t 4 & 4 & 4 & 4 & 4 & 4 & 4 & 3 & 4 & 2 & ⋯ & 4 & 3 & 2 & 4 & 4 & 4 & 4 & 4 & GB & 1\\\\\n\t 2 & 1 & 5 & 2 & 2 & 1 & 2 & 2 & 3 & 1 & ⋯ & 1 & 1 & 5 & 4 & 1 & 5 & 3 & 2 & US & 1\\\\\n\t 3 & 3 & 3 & 5 & 1 & 1 & 5 & 5 & 3 & 2 & ⋯ & 5 & 3 & 1 & 3 & 1 & 2 & 3 & 1 & US & 1\\\\\n\t 5 & 5 & 4 & 5 & 5 & 5 & 5 & 5 & 5 & 5 & ⋯ & 1 & 5 & 2 & 5 & 5 & 5 & 1 & 5 & GB & 3\\\\\n\t 4 & 4 & 2 & 5 & 5 & 5 & 4 & 1 & 4 & 3 & ⋯ & 5 & 3 & 1 & 4 & 3 & 5 & 4 & 1 & GB & 3\\\\\n\t 4 & 2 & 2 & 4 & 2 & 3 & 5 & 2 & 2 & 2 & ⋯ & 5 & 4 & 4 & 2 & 2 & 1 & 1 & 5 & IT & 1\\\\\n\t 4 & 4 & 4 & 2 & 4 & 4 & 4 & 3 & 5 & 4 & ⋯ & 2 & 4 & 2 & 4 & 3 & 4 & 4 & 3 & GB & 1\\\\\n\t 5 & 5 & 5 & 5 & 5 & 5 & 5 & 4 & 5 & 4 & ⋯ & 5 & 2 & 5 & 5 & 5 & 2 & 5 & 3 & GB & 1\\\\\n\t 5 & 3 & 4 & 4 & 4 & 4 & 4 & 2 & 4 & 3 & ⋯ & 2 & 4 & 3 & 4 & 4 & 1 & 2 & 1 & US & 1\\\\\n\t 5 & 5 & 5 & 3 & 5 & 5 & 5 & 5 & 5 & 5 & ⋯ & 2 & 5 & 5 & 5 & 5 & 5 & 3 & 5 & US & 1\\\\\n\t 5 & 5 & 5 & 5 & 5 & 4 & 1 & 5 & 4 & 4 & ⋯ & 3 & 3 & 3 & 4 & 3 & 2 & 3 & 4 & US & 1\\\\\n\t 5 & 4 & 4 & 3 & 5 & 5 & 5 & 3 & 5 & 5 & ⋯ & 2 & 2 & 1 & 5 & 5 & 2 & 1 & 1 & GB & 1\\\\\n\t 5 & 1 & 2 & 2 & 1 & 2 & 4 & 1 & 2 & 2 & ⋯ & 2 & 2 & 4 & 4 & 2 & 4 & 1 & 1 & SE & 3\\\\\n\t 2 & 2 & 3 & 4 & 3 & 3 & 4 & 2 & 4 & 2 & ⋯ & 3 & 3 & 1 & 4 & 4 & 1 & 1 & 2 & GB & 1\\\\\n\t 5 & 3 & 4 & 4 & 3 & 4 & 5 & 4 & 5 & 5 & ⋯ & 2 & 3 & 3 & 2 & 3 & 3 & 3 & 3 & GB & 3\\\\\n\t 4 & 5 & 4 & 5 & 4 & 4 & 5 & 4 & 5 & 3 & ⋯ & 2 & 2 & 1 & 2 & 1 & 5 & 1 & 1 & US & 1\\\\\n\t 4 & 3 & 3 & 4 & 2 & 2 & 5 & 2 & 4 & 3 & ⋯ & 3 & 1 & 2 & 3 & 2 & 3 & 3 & 2 & GB & 3\\\\\n\t 5 & 2 & 4 & 4 & 5 & 4 & 5 & 3 & 4 & 1 & ⋯ & 4 & 3 & 2 & 1 & 2 & 5 & 1 & 2 & GB & 1\\\\\n\t 5 & 4 & 0 & 2 & 4 & 4 & 4 & 4 & 5 & 3 & ⋯ & 4 & 4 & 2 & 4 & 2 & 2 & 2 & 2 & US & 3\\\\\n\t 4 & 4 & 3 & 2 & 1 & 1 & 4 & 2 & 4 & 3 & ⋯ & 3 & 3 & 1 & 3 & 4 & 5 & 5 & 2 & US & 3\\\\\n\t 5 & 3 & 4 & 4 & 4 & 3 & 5 & 3 & 5 & 4 & ⋯ & 4 & 2 & 1 & 2 & 2 & 1 & 3 & 1 & US & 3\\\\\n\t 5 & 1 & 2 & 2 & 4 & 4 & 5 & 2 & 5 & 2 & ⋯ & 2 & 4 & 2 & 4 & 2 & 2 & 1 & 4 & GB & 1\\\\\n\t 4 & 5 & 4 & 3 & 5 & 4 & 4 & 3 & 5 & 5 & ⋯ & 3 & 5 & 4 & 4 & 4 & 4 & 4 & 4 & US & 2\\\\\n\t 2 & 5 & 5 & 5 & 2 & 3 & 4 & 4 & 5 & 5 & ⋯ & 3 & 4 & 4 & 4 & 3 & 2 & 4 & 5 & US & 1\\\\\n\t 5 & 5 & 4 & 4 & 5 & 5 & 5 & 5 & 5 & 4 & ⋯ & 2 & 1 & 2 & 5 & 5 & 2 & 5 & 5 & CA & 2\\\\\n\t 2 & 2 & 2 & 2 & 2 & 2 & 4 & 3 & 4 & 2 & ⋯ & 3 & 2 & 2 & 3 & 2 & 4 & 4 & 2 & US & 1\\\\\n\t 4 & 2 & 3 & 2 & 3 & 3 & 2 & 3 & 2 & 3 & ⋯ & 5 & 2 & 3 & 3 & 2 & 5 & 1 & 1 & CA & 1\\\\\n\t 5 & 4 & 5 & 5 & 4 & 4 & 5 & 1 & 5 & 1 & ⋯ & 1 & 1 & 2 & 2 & 1 & 4 & 5 & 4 & US & 3\\\\\n\t 2 & 2 & 3 & 3 & 2 & 3 & 3 & 2 & 2 & 4 & ⋯ & 3 & 2 & 2 & 2 & 2 & 4 & 2 & 2 & GB & 1\\\\\n\t 4 & 3 & 3 & 2 & 2 & 2 & 4 & 3 & 4 & 2 & ⋯ & 4 & 2 & 2 & 4 & 3 & 5 & 4 & 2 & US & 3\\\\\n\t ⋮ & ⋮ & ⋮ & ⋮ & ⋮ & ⋮ & ⋮ & ⋮ & ⋮ & ⋮ & ⋱ & ⋮ & ⋮ & ⋮ & ⋮ & ⋮ & ⋮ & ⋮ & ⋮ & ⋮ & ⋮\\\\\n\t 4 & 5 & 4 & 4 & 4 & 3 & 5 & 2 & 3 & 3 & ⋯ & 2 & 2 & 4 & 5 & 3 & 4 & 5 & 5 & US & 2\\\\\n\t 4 & 2 & 3 & 4 & 3 & 4 & 4 & 2 & 4 & 2 & ⋯ & 4 & 3 & 4 & 4 & 4 & 4 & 2 & 1 & US & 1\\\\\n\t 5 & 5 & 5 & 5 & 5 & 5 & 5 & 5 & 5 & 3 & ⋯ & 4 & 1 & 1 & 5 & 5 & 1 & 3 & 4 & IE & 1\\\\\n\t 4 & 4 & 2 & 4 & 5 & 5 & 4 & 3 & 5 & 4 & ⋯ & 1 & 4 & 3 & 4 & 5 & 5 & 4 & 5 & US & 1\\\\\n\t 3 & 1 & 3 & 4 & 1 & 2 & 4 & 3 & 4 & 2 & ⋯ & 4 & 2 & 2 & 3 & 2 & 2 & 3 & 4 & US & 2\\\\\n\t 4 & 4 & 5 & 2 & 2 & 4 & 4 & 5 & 5 & 4 & ⋯ & 2 & 3 & 2 & 5 & 4 & 1 & 4 & 1 & US & 3\\\\\n\t 5 & 4 & 4 & 4 & 2 & 4 & 4 & 2 & 2 & 4 & ⋯ & 3 & 2 & 2 & 3 & 2 & 5 & 2 & 1 & NL & 1\\\\\n\t 4 & 4 & 3 & 4 & 3 & 4 & 5 & 3 & 4 & 2 & ⋯ & 1 & 1 & 5 & 4 & 3 & 2 & 2 & 4 & GB & 2\\\\\n\t 3 & 1 & 2 & 2 & 1 & 2 & 4 & 3 & 3 & 2 & ⋯ & 3 & 2 & 1 & 3 & 1 & 5 & 1 & 1 & SE & 2\\\\\n\t 4 & 1 & 3 & 1 & 2 & 4 & 5 & 5 & 5 & 1 & ⋯ & 5 & 1 & 1 & 4 & 1 & 5 & 3 & 1 & AU & 1\\\\\n\t 4 & 5 & 3 & 3 & 4 & 3 & 5 & 4 & 5 & 4 & ⋯ & 4 & 2 & 3 & 5 & 3 & 5 & 1 & 3 & AE & 1\\\\\n\t 5 & 4 & 5 & 5 & 5 & 5 & 4 & 5 & 4 & 3 & ⋯ & 5 & 1 & 1 & 3 & 4 & 5 & 1 & 4 & US & 2\\\\\n\t 4 & 4 & 2 & 2 & 2 & 2 & 0 & 5 & 4 & 3 & ⋯ & 4 & 4 & 4 & 4 & 2 & 1 & 4 & 1 & FI & 3\\\\\n\t 4 & 3 & 3 & 4 & 3 & 5 & 1 & 4 & 5 & 4 & ⋯ & 3 & 5 & 3 & 5 & 3 & 1 & 3 & 4 & LK & 1\\\\\n\t 4 & 4 & 4 & 5 & 4 & 3 & 4 & 3 & 5 & 3 & ⋯ & 1 & 3 & 2 & 4 & 2 & 5 & 5 & 3 & US & 3\\\\\n\t 5 & 4 & 4 & 3 & 3 & 3 & 5 & 4 & 3 & 5 & ⋯ & 5 & 2 & 1 & 5 & 4 & 5 & 1 & 1 & US & 1\\\\\n\t 5 & 4 & 3 & 4 & 5 & 5 & 5 & 1 & 4 & 3 & ⋯ & 1 & 5 & 1 & 4 & 5 & 5 & 4 & 5 & SE & 3\\\\\n\t 5 & 3 & 5 & 5 & 5 & 2 & 5 & 4 & 5 & 2 & ⋯ & 2 & 1 & 1 & 1 & 2 & 5 & 3 & 5 & GB & 1\\\\\n\t 4 & 4 & 4 & 3 & 4 & 4 & 4 & 4 & 4 & 4 & ⋯ & 3 & 4 & 4 & 4 & 3 & 4 & 1 & 4 & US & 2\\\\\n\t 4 & 5 & 5 & 4 & 5 & 4 & 5 & 5 & 5 & 4 & ⋯ & 1 & 2 & 4 & 5 & 5 & 1 & 5 & 5 & US & 2\\\\\n\t 5 & 5 & 1 & 5 & 5 & 5 & 5 & 5 & 5 & 3 & ⋯ & 1 & 5 & 5 & 5 & 5 & 1 & 3 & 1 & MK & 1\\\\\n\t 5 & 1 & 2 & 4 & 2 & 3 & 4 & 2 & 4 & 2 & ⋯ & 5 & 1 & 1 & 4 & 2 & 5 & 1 & 1 & US & 1\\\\\n\t 5 & 5 & 5 & 4 & 2 & 5 & 5 & 4 & 5 & 5 & ⋯ & 2 & 5 & 5 & 5 & 3 & 1 & 5 & 2 & US & 3\\\\\n\t 4 & 4 & 3 & 1 & 4 & 4 & 5 & 5 & 5 & 2 & ⋯ & 4 & 5 & 2 & 5 & 3 & 4 & 1 & 4 & US & 1\\\\\n\t 4 & 5 & 4 & 5 & 5 & 5 & 5 & 4 & 5 & 2 & ⋯ & 4 & 3 & 4 & 5 & 4 & 1 & 4 & 5 & US & 1\\\\\n\t 1 & 5 & 2 & 4 & 4 & 5 & 4 & 3 & 5 & 4 & ⋯ & 3 & 3 & 3 & 5 & 3 & 2 & 3 & 3 & US & 2\\\\\n\t 5 & 4 & 5 & 4 & 5 & 4 & 5 & 4 & 5 & 4 & ⋯ & 2 & 2 & 1 & 5 & 2 & 2 & 3 & 4 & GB & 1\\\\\n\t 4 & 3 & 3 & 4 & 2 & 3 & 4 & 3 & 4 & 3 & ⋯ & 5 & 3 & 1 & 1 & 1 & 2 & 4 & 1 & US & 2\\\\\n\t 5 & 4 & 3 & 3 & 4 & 4 & 4 & 3 & 4 & 3 & ⋯ & 3 & 3 & 4 & 4 & 3 & 4 & 1 & 3 & LK & 2\\\\\n\t 4 & 4 & 4 & 5 & 3 & 4 & 4 & 3 & 3 & 3 & ⋯ & 3 & 3 & 2 & 4 & 3 & 3 & 4 & 4 & US & 1\\\\\n\\end{tabular}\n"
          },
          "metadata": {}
        }
      ]
    },
    {
      "cell_type": "code",
      "source": [],
      "metadata": {
        "id": "tcmkHYywoO3p"
      },
      "execution_count": null,
      "outputs": []
    }
  ]
}