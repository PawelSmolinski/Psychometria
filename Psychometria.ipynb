{
  "nbformat": 4,
  "nbformat_minor": 0,
  "metadata": {
    "colab": {
      "provenance": [],
      "authorship_tag": "ABX9TyNJsFhZKX7vG6xNt4fpzYoL",
      "include_colab_link": true
    },
    "kernelspec": {
      "name": "ir",
      "display_name": "R"
    },
    "language_info": {
      "name": "R"
    }
  },
  "cells": [
    {
      "cell_type": "markdown",
      "metadata": {
        "id": "view-in-github",
        "colab_type": "text"
      },
      "source": [
        "<a href=\"https://colab.research.google.com/github/PawelSmolinski/Psychometria/blob/main/Psychometria.ipynb\" target=\"_parent\"><img src=\"https://colab.research.google.com/assets/colab-badge.svg\" alt=\"Open In Colab\"/></a>"
      ]
    },
    {
      "cell_type": "code",
      "source": [
        "install.packages('psych')\n",
        "library('psych')"
      ],
      "metadata": {
        "id": "tcmkHYywoO3p",
        "colab": {
          "base_uri": "https://localhost:8080/"
        },
        "outputId": "39487129-9cce-418b-9d48-3e5673d766b6"
      },
      "execution_count": 12,
      "outputs": [
        {
          "output_type": "stream",
          "name": "stderr",
          "text": [
            "Installing package into ‘/usr/local/lib/R/site-library’\n",
            "(as ‘lib’ is unspecified)\n",
            "\n",
            "also installing the dependency ‘mnormt’\n",
            "\n",
            "\n"
          ]
        }
      ]
    },
    {
      "cell_type": "code",
      "execution_count": null,
      "metadata": {
        "id": "f_WIpA5ok9Y_"
      },
      "outputs": [],
      "source": [
        "dane <- read.csv('https://raw.githubusercontent.com/PawelSmolinski/Psychometria/main/Dane/Ciemna%20triada/data.csv')"
      ]
    },
    {
      "cell_type": "code",
      "source": [
        "View(dane)"
      ],
      "metadata": {
        "colab": {
          "base_uri": "https://localhost:8080/",
          "height": 1000
        },
        "id": "xmWUvPpAoNFT",
        "outputId": "962ff15b-89a9-491a-842e-188a7aebf687"
      },
      "execution_count": null,
      "outputs": [
        {
          "output_type": "display_data",
          "data": {
            "text/plain": [
              "      M1 M2 M3 M4 M5 M6 M7 M8 M9 N1 ⋯ P2 P3 P4 P5 P6 P7 P8 P9 country source\n",
              "1     4  4  4  4  4  4  4  3  4  2  ⋯ 4  3  2  4  4  4  4  4  GB      1     \n",
              "2     2  1  5  2  2  1  2  2  3  1  ⋯ 1  1  5  4  1  5  3  2  US      1     \n",
              "3     3  3  3  5  1  1  5  5  3  2  ⋯ 5  3  1  3  1  2  3  1  US      1     \n",
              "4     5  5  4  5  5  5  5  5  5  5  ⋯ 1  5  2  5  5  5  1  5  GB      3     \n",
              "5     4  4  2  5  5  5  4  1  4  3  ⋯ 5  3  1  4  3  5  4  1  GB      3     \n",
              "6     4  2  2  4  2  3  5  2  2  2  ⋯ 5  4  4  2  2  1  1  5  IT      1     \n",
              "7     4  4  4  2  4  4  4  3  5  4  ⋯ 2  4  2  4  3  4  4  3  GB      1     \n",
              "8     5  5  5  5  5  5  5  4  5  4  ⋯ 5  2  5  5  5  2  5  3  GB      1     \n",
              "9     5  3  4  4  4  4  4  2  4  3  ⋯ 2  4  3  4  4  1  2  1  US      1     \n",
              "10    5  5  5  3  5  5  5  5  5  5  ⋯ 2  5  5  5  5  5  3  5  US      1     \n",
              "11    5  5  5  5  5  4  1  5  4  4  ⋯ 3  3  3  4  3  2  3  4  US      1     \n",
              "12    5  4  4  3  5  5  5  3  5  5  ⋯ 2  2  1  5  5  2  1  1  GB      1     \n",
              "13    5  1  2  2  1  2  4  1  2  2  ⋯ 2  2  4  4  2  4  1  1  SE      3     \n",
              "14    2  2  3  4  3  3  4  2  4  2  ⋯ 3  3  1  4  4  1  1  2  GB      1     \n",
              "15    5  3  4  4  3  4  5  4  5  5  ⋯ 2  3  3  2  3  3  3  3  GB      3     \n",
              "16    4  5  4  5  4  4  5  4  5  3  ⋯ 2  2  1  2  1  5  1  1  US      1     \n",
              "17    4  3  3  4  2  2  5  2  4  3  ⋯ 3  1  2  3  2  3  3  2  GB      3     \n",
              "18    5  2  4  4  5  4  5  3  4  1  ⋯ 4  3  2  1  2  5  1  2  GB      1     \n",
              "19    5  4  0  2  4  4  4  4  5  3  ⋯ 4  4  2  4  2  2  2  2  US      3     \n",
              "20    4  4  3  2  1  1  4  2  4  3  ⋯ 3  3  1  3  4  5  5  2  US      3     \n",
              "21    5  3  4  4  4  3  5  3  5  4  ⋯ 4  2  1  2  2  1  3  1  US      3     \n",
              "22    5  1  2  2  4  4  5  2  5  2  ⋯ 2  4  2  4  2  2  1  4  GB      1     \n",
              "23    4  5  4  3  5  4  4  3  5  5  ⋯ 3  5  4  4  4  4  4  4  US      2     \n",
              "24    2  5  5  5  2  3  4  4  5  5  ⋯ 3  4  4  4  3  2  4  5  US      1     \n",
              "25    5  5  4  4  5  5  5  5  5  4  ⋯ 2  1  2  5  5  2  5  5  CA      2     \n",
              "26    2  2  2  2  2  2  4  3  4  2  ⋯ 3  2  2  3  2  4  4  2  US      1     \n",
              "27    4  2  3  2  3  3  2  3  2  3  ⋯ 5  2  3  3  2  5  1  1  CA      1     \n",
              "28    5  4  5  5  4  4  5  1  5  1  ⋯ 1  1  2  2  1  4  5  4  US      3     \n",
              "29    2  2  3  3  2  3  3  2  2  4  ⋯ 3  2  2  2  2  4  2  2  GB      1     \n",
              "30    4  3  3  2  2  2  4  3  4  2  ⋯ 4  2  2  4  3  5  4  2  US      3     \n",
              "⋮     ⋮  ⋮  ⋮  ⋮  ⋮  ⋮  ⋮  ⋮  ⋮  ⋮  ⋱ ⋮  ⋮  ⋮  ⋮  ⋮  ⋮  ⋮  ⋮  ⋮       ⋮     \n",
              "18163 4  5  4  4  4  3  5  2  3  3  ⋯ 2  2  4  5  3  4  5  5  US      2     \n",
              "18164 4  2  3  4  3  4  4  2  4  2  ⋯ 4  3  4  4  4  4  2  1  US      1     \n",
              "18165 5  5  5  5  5  5  5  5  5  3  ⋯ 4  1  1  5  5  1  3  4  IE      1     \n",
              "18166 4  4  2  4  5  5  4  3  5  4  ⋯ 1  4  3  4  5  5  4  5  US      1     \n",
              "18167 3  1  3  4  1  2  4  3  4  2  ⋯ 4  2  2  3  2  2  3  4  US      2     \n",
              "18168 4  4  5  2  2  4  4  5  5  4  ⋯ 2  3  2  5  4  1  4  1  US      3     \n",
              "18169 5  4  4  4  2  4  4  2  2  4  ⋯ 3  2  2  3  2  5  2  1  NL      1     \n",
              "18170 4  4  3  4  3  4  5  3  4  2  ⋯ 1  1  5  4  3  2  2  4  GB      2     \n",
              "18171 3  1  2  2  1  2  4  3  3  2  ⋯ 3  2  1  3  1  5  1  1  SE      2     \n",
              "18172 4  1  3  1  2  4  5  5  5  1  ⋯ 5  1  1  4  1  5  3  1  AU      1     \n",
              "18173 4  5  3  3  4  3  5  4  5  4  ⋯ 4  2  3  5  3  5  1  3  AE      1     \n",
              "18174 5  4  5  5  5  5  4  5  4  3  ⋯ 5  1  1  3  4  5  1  4  US      2     \n",
              "18175 4  4  2  2  2  2  0  5  4  3  ⋯ 4  4  4  4  2  1  4  1  FI      3     \n",
              "18176 4  3  3  4  3  5  1  4  5  4  ⋯ 3  5  3  5  3  1  3  4  LK      1     \n",
              "18177 4  4  4  5  4  3  4  3  5  3  ⋯ 1  3  2  4  2  5  5  3  US      3     \n",
              "18178 5  4  4  3  3  3  5  4  3  5  ⋯ 5  2  1  5  4  5  1  1  US      1     \n",
              "18179 5  4  3  4  5  5  5  1  4  3  ⋯ 1  5  1  4  5  5  4  5  SE      3     \n",
              "18180 5  3  5  5  5  2  5  4  5  2  ⋯ 2  1  1  1  2  5  3  5  GB      1     \n",
              "18181 4  4  4  3  4  4  4  4  4  4  ⋯ 3  4  4  4  3  4  1  4  US      2     \n",
              "18182 4  5  5  4  5  4  5  5  5  4  ⋯ 1  2  4  5  5  1  5  5  US      2     \n",
              "18183 5  5  1  5  5  5  5  5  5  3  ⋯ 1  5  5  5  5  1  3  1  MK      1     \n",
              "18184 5  1  2  4  2  3  4  2  4  2  ⋯ 5  1  1  4  2  5  1  1  US      1     \n",
              "18185 5  5  5  4  2  5  5  4  5  5  ⋯ 2  5  5  5  3  1  5  2  US      3     \n",
              "18186 4  4  3  1  4  4  5  5  5  2  ⋯ 4  5  2  5  3  4  1  4  US      1     \n",
              "18187 4  5  4  5  5  5  5  4  5  2  ⋯ 4  3  4  5  4  1  4  5  US      1     \n",
              "18188 1  5  2  4  4  5  4  3  5  4  ⋯ 3  3  3  5  3  2  3  3  US      2     \n",
              "18189 5  4  5  4  5  4  5  4  5  4  ⋯ 2  2  1  5  2  2  3  4  GB      1     \n",
              "18190 4  3  3  4  2  3  4  3  4  3  ⋯ 5  3  1  1  1  2  4  1  US      2     \n",
              "18191 5  4  3  3  4  4  4  3  4  3  ⋯ 3  3  4  4  3  4  1  3  LK      2     \n",
              "18192 4  4  4  5  3  4  4  3  3  3  ⋯ 3  3  2  4  3  3  4  4  US      1     "
            ],
            "text/html": [
              "<table class=\"dataframe\">\n",
              "<caption>A data.frame: 18192 × 29</caption>\n",
              "<thead>\n",
              "\t<tr><th scope=col>M1</th><th scope=col>M2</th><th scope=col>M3</th><th scope=col>M4</th><th scope=col>M5</th><th scope=col>M6</th><th scope=col>M7</th><th scope=col>M8</th><th scope=col>M9</th><th scope=col>N1</th><th scope=col>⋯</th><th scope=col>P2</th><th scope=col>P3</th><th scope=col>P4</th><th scope=col>P5</th><th scope=col>P6</th><th scope=col>P7</th><th scope=col>P8</th><th scope=col>P9</th><th scope=col>country</th><th scope=col>source</th></tr>\n",
              "\t<tr><th scope=col>&lt;int&gt;</th><th scope=col>&lt;int&gt;</th><th scope=col>&lt;int&gt;</th><th scope=col>&lt;int&gt;</th><th scope=col>&lt;int&gt;</th><th scope=col>&lt;int&gt;</th><th scope=col>&lt;int&gt;</th><th scope=col>&lt;int&gt;</th><th scope=col>&lt;int&gt;</th><th scope=col>&lt;int&gt;</th><th scope=col>⋯</th><th scope=col>&lt;int&gt;</th><th scope=col>&lt;int&gt;</th><th scope=col>&lt;int&gt;</th><th scope=col>&lt;int&gt;</th><th scope=col>&lt;int&gt;</th><th scope=col>&lt;int&gt;</th><th scope=col>&lt;int&gt;</th><th scope=col>&lt;int&gt;</th><th scope=col>&lt;chr&gt;</th><th scope=col>&lt;int&gt;</th></tr>\n",
              "</thead>\n",
              "<tbody>\n",
              "\t<tr><td>4</td><td>4</td><td>4</td><td>4</td><td>4</td><td>4</td><td>4</td><td>3</td><td>4</td><td>2</td><td>⋯</td><td>4</td><td>3</td><td>2</td><td>4</td><td>4</td><td>4</td><td>4</td><td>4</td><td>GB</td><td>1</td></tr>\n",
              "\t<tr><td>2</td><td>1</td><td>5</td><td>2</td><td>2</td><td>1</td><td>2</td><td>2</td><td>3</td><td>1</td><td>⋯</td><td>1</td><td>1</td><td>5</td><td>4</td><td>1</td><td>5</td><td>3</td><td>2</td><td>US</td><td>1</td></tr>\n",
              "\t<tr><td>3</td><td>3</td><td>3</td><td>5</td><td>1</td><td>1</td><td>5</td><td>5</td><td>3</td><td>2</td><td>⋯</td><td>5</td><td>3</td><td>1</td><td>3</td><td>1</td><td>2</td><td>3</td><td>1</td><td>US</td><td>1</td></tr>\n",
              "\t<tr><td>5</td><td>5</td><td>4</td><td>5</td><td>5</td><td>5</td><td>5</td><td>5</td><td>5</td><td>5</td><td>⋯</td><td>1</td><td>5</td><td>2</td><td>5</td><td>5</td><td>5</td><td>1</td><td>5</td><td>GB</td><td>3</td></tr>\n",
              "\t<tr><td>4</td><td>4</td><td>2</td><td>5</td><td>5</td><td>5</td><td>4</td><td>1</td><td>4</td><td>3</td><td>⋯</td><td>5</td><td>3</td><td>1</td><td>4</td><td>3</td><td>5</td><td>4</td><td>1</td><td>GB</td><td>3</td></tr>\n",
              "\t<tr><td>4</td><td>2</td><td>2</td><td>4</td><td>2</td><td>3</td><td>5</td><td>2</td><td>2</td><td>2</td><td>⋯</td><td>5</td><td>4</td><td>4</td><td>2</td><td>2</td><td>1</td><td>1</td><td>5</td><td>IT</td><td>1</td></tr>\n",
              "\t<tr><td>4</td><td>4</td><td>4</td><td>2</td><td>4</td><td>4</td><td>4</td><td>3</td><td>5</td><td>4</td><td>⋯</td><td>2</td><td>4</td><td>2</td><td>4</td><td>3</td><td>4</td><td>4</td><td>3</td><td>GB</td><td>1</td></tr>\n",
              "\t<tr><td>5</td><td>5</td><td>5</td><td>5</td><td>5</td><td>5</td><td>5</td><td>4</td><td>5</td><td>4</td><td>⋯</td><td>5</td><td>2</td><td>5</td><td>5</td><td>5</td><td>2</td><td>5</td><td>3</td><td>GB</td><td>1</td></tr>\n",
              "\t<tr><td>5</td><td>3</td><td>4</td><td>4</td><td>4</td><td>4</td><td>4</td><td>2</td><td>4</td><td>3</td><td>⋯</td><td>2</td><td>4</td><td>3</td><td>4</td><td>4</td><td>1</td><td>2</td><td>1</td><td>US</td><td>1</td></tr>\n",
              "\t<tr><td>5</td><td>5</td><td>5</td><td>3</td><td>5</td><td>5</td><td>5</td><td>5</td><td>5</td><td>5</td><td>⋯</td><td>2</td><td>5</td><td>5</td><td>5</td><td>5</td><td>5</td><td>3</td><td>5</td><td>US</td><td>1</td></tr>\n",
              "\t<tr><td>5</td><td>5</td><td>5</td><td>5</td><td>5</td><td>4</td><td>1</td><td>5</td><td>4</td><td>4</td><td>⋯</td><td>3</td><td>3</td><td>3</td><td>4</td><td>3</td><td>2</td><td>3</td><td>4</td><td>US</td><td>1</td></tr>\n",
              "\t<tr><td>5</td><td>4</td><td>4</td><td>3</td><td>5</td><td>5</td><td>5</td><td>3</td><td>5</td><td>5</td><td>⋯</td><td>2</td><td>2</td><td>1</td><td>5</td><td>5</td><td>2</td><td>1</td><td>1</td><td>GB</td><td>1</td></tr>\n",
              "\t<tr><td>5</td><td>1</td><td>2</td><td>2</td><td>1</td><td>2</td><td>4</td><td>1</td><td>2</td><td>2</td><td>⋯</td><td>2</td><td>2</td><td>4</td><td>4</td><td>2</td><td>4</td><td>1</td><td>1</td><td>SE</td><td>3</td></tr>\n",
              "\t<tr><td>2</td><td>2</td><td>3</td><td>4</td><td>3</td><td>3</td><td>4</td><td>2</td><td>4</td><td>2</td><td>⋯</td><td>3</td><td>3</td><td>1</td><td>4</td><td>4</td><td>1</td><td>1</td><td>2</td><td>GB</td><td>1</td></tr>\n",
              "\t<tr><td>5</td><td>3</td><td>4</td><td>4</td><td>3</td><td>4</td><td>5</td><td>4</td><td>5</td><td>5</td><td>⋯</td><td>2</td><td>3</td><td>3</td><td>2</td><td>3</td><td>3</td><td>3</td><td>3</td><td>GB</td><td>3</td></tr>\n",
              "\t<tr><td>4</td><td>5</td><td>4</td><td>5</td><td>4</td><td>4</td><td>5</td><td>4</td><td>5</td><td>3</td><td>⋯</td><td>2</td><td>2</td><td>1</td><td>2</td><td>1</td><td>5</td><td>1</td><td>1</td><td>US</td><td>1</td></tr>\n",
              "\t<tr><td>4</td><td>3</td><td>3</td><td>4</td><td>2</td><td>2</td><td>5</td><td>2</td><td>4</td><td>3</td><td>⋯</td><td>3</td><td>1</td><td>2</td><td>3</td><td>2</td><td>3</td><td>3</td><td>2</td><td>GB</td><td>3</td></tr>\n",
              "\t<tr><td>5</td><td>2</td><td>4</td><td>4</td><td>5</td><td>4</td><td>5</td><td>3</td><td>4</td><td>1</td><td>⋯</td><td>4</td><td>3</td><td>2</td><td>1</td><td>2</td><td>5</td><td>1</td><td>2</td><td>GB</td><td>1</td></tr>\n",
              "\t<tr><td>5</td><td>4</td><td>0</td><td>2</td><td>4</td><td>4</td><td>4</td><td>4</td><td>5</td><td>3</td><td>⋯</td><td>4</td><td>4</td><td>2</td><td>4</td><td>2</td><td>2</td><td>2</td><td>2</td><td>US</td><td>3</td></tr>\n",
              "\t<tr><td>4</td><td>4</td><td>3</td><td>2</td><td>1</td><td>1</td><td>4</td><td>2</td><td>4</td><td>3</td><td>⋯</td><td>3</td><td>3</td><td>1</td><td>3</td><td>4</td><td>5</td><td>5</td><td>2</td><td>US</td><td>3</td></tr>\n",
              "\t<tr><td>5</td><td>3</td><td>4</td><td>4</td><td>4</td><td>3</td><td>5</td><td>3</td><td>5</td><td>4</td><td>⋯</td><td>4</td><td>2</td><td>1</td><td>2</td><td>2</td><td>1</td><td>3</td><td>1</td><td>US</td><td>3</td></tr>\n",
              "\t<tr><td>5</td><td>1</td><td>2</td><td>2</td><td>4</td><td>4</td><td>5</td><td>2</td><td>5</td><td>2</td><td>⋯</td><td>2</td><td>4</td><td>2</td><td>4</td><td>2</td><td>2</td><td>1</td><td>4</td><td>GB</td><td>1</td></tr>\n",
              "\t<tr><td>4</td><td>5</td><td>4</td><td>3</td><td>5</td><td>4</td><td>4</td><td>3</td><td>5</td><td>5</td><td>⋯</td><td>3</td><td>5</td><td>4</td><td>4</td><td>4</td><td>4</td><td>4</td><td>4</td><td>US</td><td>2</td></tr>\n",
              "\t<tr><td>2</td><td>5</td><td>5</td><td>5</td><td>2</td><td>3</td><td>4</td><td>4</td><td>5</td><td>5</td><td>⋯</td><td>3</td><td>4</td><td>4</td><td>4</td><td>3</td><td>2</td><td>4</td><td>5</td><td>US</td><td>1</td></tr>\n",
              "\t<tr><td>5</td><td>5</td><td>4</td><td>4</td><td>5</td><td>5</td><td>5</td><td>5</td><td>5</td><td>4</td><td>⋯</td><td>2</td><td>1</td><td>2</td><td>5</td><td>5</td><td>2</td><td>5</td><td>5</td><td>CA</td><td>2</td></tr>\n",
              "\t<tr><td>2</td><td>2</td><td>2</td><td>2</td><td>2</td><td>2</td><td>4</td><td>3</td><td>4</td><td>2</td><td>⋯</td><td>3</td><td>2</td><td>2</td><td>3</td><td>2</td><td>4</td><td>4</td><td>2</td><td>US</td><td>1</td></tr>\n",
              "\t<tr><td>4</td><td>2</td><td>3</td><td>2</td><td>3</td><td>3</td><td>2</td><td>3</td><td>2</td><td>3</td><td>⋯</td><td>5</td><td>2</td><td>3</td><td>3</td><td>2</td><td>5</td><td>1</td><td>1</td><td>CA</td><td>1</td></tr>\n",
              "\t<tr><td>5</td><td>4</td><td>5</td><td>5</td><td>4</td><td>4</td><td>5</td><td>1</td><td>5</td><td>1</td><td>⋯</td><td>1</td><td>1</td><td>2</td><td>2</td><td>1</td><td>4</td><td>5</td><td>4</td><td>US</td><td>3</td></tr>\n",
              "\t<tr><td>2</td><td>2</td><td>3</td><td>3</td><td>2</td><td>3</td><td>3</td><td>2</td><td>2</td><td>4</td><td>⋯</td><td>3</td><td>2</td><td>2</td><td>2</td><td>2</td><td>4</td><td>2</td><td>2</td><td>GB</td><td>1</td></tr>\n",
              "\t<tr><td>4</td><td>3</td><td>3</td><td>2</td><td>2</td><td>2</td><td>4</td><td>3</td><td>4</td><td>2</td><td>⋯</td><td>4</td><td>2</td><td>2</td><td>4</td><td>3</td><td>5</td><td>4</td><td>2</td><td>US</td><td>3</td></tr>\n",
              "\t<tr><td>⋮</td><td>⋮</td><td>⋮</td><td>⋮</td><td>⋮</td><td>⋮</td><td>⋮</td><td>⋮</td><td>⋮</td><td>⋮</td><td>⋱</td><td>⋮</td><td>⋮</td><td>⋮</td><td>⋮</td><td>⋮</td><td>⋮</td><td>⋮</td><td>⋮</td><td>⋮</td><td>⋮</td></tr>\n",
              "\t<tr><td>4</td><td>5</td><td>4</td><td>4</td><td>4</td><td>3</td><td>5</td><td>2</td><td>3</td><td>3</td><td>⋯</td><td>2</td><td>2</td><td>4</td><td>5</td><td>3</td><td>4</td><td>5</td><td>5</td><td>US</td><td>2</td></tr>\n",
              "\t<tr><td>4</td><td>2</td><td>3</td><td>4</td><td>3</td><td>4</td><td>4</td><td>2</td><td>4</td><td>2</td><td>⋯</td><td>4</td><td>3</td><td>4</td><td>4</td><td>4</td><td>4</td><td>2</td><td>1</td><td>US</td><td>1</td></tr>\n",
              "\t<tr><td>5</td><td>5</td><td>5</td><td>5</td><td>5</td><td>5</td><td>5</td><td>5</td><td>5</td><td>3</td><td>⋯</td><td>4</td><td>1</td><td>1</td><td>5</td><td>5</td><td>1</td><td>3</td><td>4</td><td>IE</td><td>1</td></tr>\n",
              "\t<tr><td>4</td><td>4</td><td>2</td><td>4</td><td>5</td><td>5</td><td>4</td><td>3</td><td>5</td><td>4</td><td>⋯</td><td>1</td><td>4</td><td>3</td><td>4</td><td>5</td><td>5</td><td>4</td><td>5</td><td>US</td><td>1</td></tr>\n",
              "\t<tr><td>3</td><td>1</td><td>3</td><td>4</td><td>1</td><td>2</td><td>4</td><td>3</td><td>4</td><td>2</td><td>⋯</td><td>4</td><td>2</td><td>2</td><td>3</td><td>2</td><td>2</td><td>3</td><td>4</td><td>US</td><td>2</td></tr>\n",
              "\t<tr><td>4</td><td>4</td><td>5</td><td>2</td><td>2</td><td>4</td><td>4</td><td>5</td><td>5</td><td>4</td><td>⋯</td><td>2</td><td>3</td><td>2</td><td>5</td><td>4</td><td>1</td><td>4</td><td>1</td><td>US</td><td>3</td></tr>\n",
              "\t<tr><td>5</td><td>4</td><td>4</td><td>4</td><td>2</td><td>4</td><td>4</td><td>2</td><td>2</td><td>4</td><td>⋯</td><td>3</td><td>2</td><td>2</td><td>3</td><td>2</td><td>5</td><td>2</td><td>1</td><td>NL</td><td>1</td></tr>\n",
              "\t<tr><td>4</td><td>4</td><td>3</td><td>4</td><td>3</td><td>4</td><td>5</td><td>3</td><td>4</td><td>2</td><td>⋯</td><td>1</td><td>1</td><td>5</td><td>4</td><td>3</td><td>2</td><td>2</td><td>4</td><td>GB</td><td>2</td></tr>\n",
              "\t<tr><td>3</td><td>1</td><td>2</td><td>2</td><td>1</td><td>2</td><td>4</td><td>3</td><td>3</td><td>2</td><td>⋯</td><td>3</td><td>2</td><td>1</td><td>3</td><td>1</td><td>5</td><td>1</td><td>1</td><td>SE</td><td>2</td></tr>\n",
              "\t<tr><td>4</td><td>1</td><td>3</td><td>1</td><td>2</td><td>4</td><td>5</td><td>5</td><td>5</td><td>1</td><td>⋯</td><td>5</td><td>1</td><td>1</td><td>4</td><td>1</td><td>5</td><td>3</td><td>1</td><td>AU</td><td>1</td></tr>\n",
              "\t<tr><td>4</td><td>5</td><td>3</td><td>3</td><td>4</td><td>3</td><td>5</td><td>4</td><td>5</td><td>4</td><td>⋯</td><td>4</td><td>2</td><td>3</td><td>5</td><td>3</td><td>5</td><td>1</td><td>3</td><td>AE</td><td>1</td></tr>\n",
              "\t<tr><td>5</td><td>4</td><td>5</td><td>5</td><td>5</td><td>5</td><td>4</td><td>5</td><td>4</td><td>3</td><td>⋯</td><td>5</td><td>1</td><td>1</td><td>3</td><td>4</td><td>5</td><td>1</td><td>4</td><td>US</td><td>2</td></tr>\n",
              "\t<tr><td>4</td><td>4</td><td>2</td><td>2</td><td>2</td><td>2</td><td>0</td><td>5</td><td>4</td><td>3</td><td>⋯</td><td>4</td><td>4</td><td>4</td><td>4</td><td>2</td><td>1</td><td>4</td><td>1</td><td>FI</td><td>3</td></tr>\n",
              "\t<tr><td>4</td><td>3</td><td>3</td><td>4</td><td>3</td><td>5</td><td>1</td><td>4</td><td>5</td><td>4</td><td>⋯</td><td>3</td><td>5</td><td>3</td><td>5</td><td>3</td><td>1</td><td>3</td><td>4</td><td>LK</td><td>1</td></tr>\n",
              "\t<tr><td>4</td><td>4</td><td>4</td><td>5</td><td>4</td><td>3</td><td>4</td><td>3</td><td>5</td><td>3</td><td>⋯</td><td>1</td><td>3</td><td>2</td><td>4</td><td>2</td><td>5</td><td>5</td><td>3</td><td>US</td><td>3</td></tr>\n",
              "\t<tr><td>5</td><td>4</td><td>4</td><td>3</td><td>3</td><td>3</td><td>5</td><td>4</td><td>3</td><td>5</td><td>⋯</td><td>5</td><td>2</td><td>1</td><td>5</td><td>4</td><td>5</td><td>1</td><td>1</td><td>US</td><td>1</td></tr>\n",
              "\t<tr><td>5</td><td>4</td><td>3</td><td>4</td><td>5</td><td>5</td><td>5</td><td>1</td><td>4</td><td>3</td><td>⋯</td><td>1</td><td>5</td><td>1</td><td>4</td><td>5</td><td>5</td><td>4</td><td>5</td><td>SE</td><td>3</td></tr>\n",
              "\t<tr><td>5</td><td>3</td><td>5</td><td>5</td><td>5</td><td>2</td><td>5</td><td>4</td><td>5</td><td>2</td><td>⋯</td><td>2</td><td>1</td><td>1</td><td>1</td><td>2</td><td>5</td><td>3</td><td>5</td><td>GB</td><td>1</td></tr>\n",
              "\t<tr><td>4</td><td>4</td><td>4</td><td>3</td><td>4</td><td>4</td><td>4</td><td>4</td><td>4</td><td>4</td><td>⋯</td><td>3</td><td>4</td><td>4</td><td>4</td><td>3</td><td>4</td><td>1</td><td>4</td><td>US</td><td>2</td></tr>\n",
              "\t<tr><td>4</td><td>5</td><td>5</td><td>4</td><td>5</td><td>4</td><td>5</td><td>5</td><td>5</td><td>4</td><td>⋯</td><td>1</td><td>2</td><td>4</td><td>5</td><td>5</td><td>1</td><td>5</td><td>5</td><td>US</td><td>2</td></tr>\n",
              "\t<tr><td>5</td><td>5</td><td>1</td><td>5</td><td>5</td><td>5</td><td>5</td><td>5</td><td>5</td><td>3</td><td>⋯</td><td>1</td><td>5</td><td>5</td><td>5</td><td>5</td><td>1</td><td>3</td><td>1</td><td>MK</td><td>1</td></tr>\n",
              "\t<tr><td>5</td><td>1</td><td>2</td><td>4</td><td>2</td><td>3</td><td>4</td><td>2</td><td>4</td><td>2</td><td>⋯</td><td>5</td><td>1</td><td>1</td><td>4</td><td>2</td><td>5</td><td>1</td><td>1</td><td>US</td><td>1</td></tr>\n",
              "\t<tr><td>5</td><td>5</td><td>5</td><td>4</td><td>2</td><td>5</td><td>5</td><td>4</td><td>5</td><td>5</td><td>⋯</td><td>2</td><td>5</td><td>5</td><td>5</td><td>3</td><td>1</td><td>5</td><td>2</td><td>US</td><td>3</td></tr>\n",
              "\t<tr><td>4</td><td>4</td><td>3</td><td>1</td><td>4</td><td>4</td><td>5</td><td>5</td><td>5</td><td>2</td><td>⋯</td><td>4</td><td>5</td><td>2</td><td>5</td><td>3</td><td>4</td><td>1</td><td>4</td><td>US</td><td>1</td></tr>\n",
              "\t<tr><td>4</td><td>5</td><td>4</td><td>5</td><td>5</td><td>5</td><td>5</td><td>4</td><td>5</td><td>2</td><td>⋯</td><td>4</td><td>3</td><td>4</td><td>5</td><td>4</td><td>1</td><td>4</td><td>5</td><td>US</td><td>1</td></tr>\n",
              "\t<tr><td>1</td><td>5</td><td>2</td><td>4</td><td>4</td><td>5</td><td>4</td><td>3</td><td>5</td><td>4</td><td>⋯</td><td>3</td><td>3</td><td>3</td><td>5</td><td>3</td><td>2</td><td>3</td><td>3</td><td>US</td><td>2</td></tr>\n",
              "\t<tr><td>5</td><td>4</td><td>5</td><td>4</td><td>5</td><td>4</td><td>5</td><td>4</td><td>5</td><td>4</td><td>⋯</td><td>2</td><td>2</td><td>1</td><td>5</td><td>2</td><td>2</td><td>3</td><td>4</td><td>GB</td><td>1</td></tr>\n",
              "\t<tr><td>4</td><td>3</td><td>3</td><td>4</td><td>2</td><td>3</td><td>4</td><td>3</td><td>4</td><td>3</td><td>⋯</td><td>5</td><td>3</td><td>1</td><td>1</td><td>1</td><td>2</td><td>4</td><td>1</td><td>US</td><td>2</td></tr>\n",
              "\t<tr><td>5</td><td>4</td><td>3</td><td>3</td><td>4</td><td>4</td><td>4</td><td>3</td><td>4</td><td>3</td><td>⋯</td><td>3</td><td>3</td><td>4</td><td>4</td><td>3</td><td>4</td><td>1</td><td>3</td><td>LK</td><td>2</td></tr>\n",
              "\t<tr><td>4</td><td>4</td><td>4</td><td>5</td><td>3</td><td>4</td><td>4</td><td>3</td><td>3</td><td>3</td><td>⋯</td><td>3</td><td>3</td><td>2</td><td>4</td><td>3</td><td>3</td><td>4</td><td>4</td><td>US</td><td>1</td></tr>\n",
              "</tbody>\n",
              "</table>\n"
            ],
            "text/markdown": "\nA data.frame: 18192 × 29\n\n| M1 &lt;int&gt; | M2 &lt;int&gt; | M3 &lt;int&gt; | M4 &lt;int&gt; | M5 &lt;int&gt; | M6 &lt;int&gt; | M7 &lt;int&gt; | M8 &lt;int&gt; | M9 &lt;int&gt; | N1 &lt;int&gt; | ⋯ ⋯ | P2 &lt;int&gt; | P3 &lt;int&gt; | P4 &lt;int&gt; | P5 &lt;int&gt; | P6 &lt;int&gt; | P7 &lt;int&gt; | P8 &lt;int&gt; | P9 &lt;int&gt; | country &lt;chr&gt; | source &lt;int&gt; |\n|---|---|---|---|---|---|---|---|---|---|---|---|---|---|---|---|---|---|---|---|---|\n| 4 | 4 | 4 | 4 | 4 | 4 | 4 | 3 | 4 | 2 | ⋯ | 4 | 3 | 2 | 4 | 4 | 4 | 4 | 4 | GB | 1 |\n| 2 | 1 | 5 | 2 | 2 | 1 | 2 | 2 | 3 | 1 | ⋯ | 1 | 1 | 5 | 4 | 1 | 5 | 3 | 2 | US | 1 |\n| 3 | 3 | 3 | 5 | 1 | 1 | 5 | 5 | 3 | 2 | ⋯ | 5 | 3 | 1 | 3 | 1 | 2 | 3 | 1 | US | 1 |\n| 5 | 5 | 4 | 5 | 5 | 5 | 5 | 5 | 5 | 5 | ⋯ | 1 | 5 | 2 | 5 | 5 | 5 | 1 | 5 | GB | 3 |\n| 4 | 4 | 2 | 5 | 5 | 5 | 4 | 1 | 4 | 3 | ⋯ | 5 | 3 | 1 | 4 | 3 | 5 | 4 | 1 | GB | 3 |\n| 4 | 2 | 2 | 4 | 2 | 3 | 5 | 2 | 2 | 2 | ⋯ | 5 | 4 | 4 | 2 | 2 | 1 | 1 | 5 | IT | 1 |\n| 4 | 4 | 4 | 2 | 4 | 4 | 4 | 3 | 5 | 4 | ⋯ | 2 | 4 | 2 | 4 | 3 | 4 | 4 | 3 | GB | 1 |\n| 5 | 5 | 5 | 5 | 5 | 5 | 5 | 4 | 5 | 4 | ⋯ | 5 | 2 | 5 | 5 | 5 | 2 | 5 | 3 | GB | 1 |\n| 5 | 3 | 4 | 4 | 4 | 4 | 4 | 2 | 4 | 3 | ⋯ | 2 | 4 | 3 | 4 | 4 | 1 | 2 | 1 | US | 1 |\n| 5 | 5 | 5 | 3 | 5 | 5 | 5 | 5 | 5 | 5 | ⋯ | 2 | 5 | 5 | 5 | 5 | 5 | 3 | 5 | US | 1 |\n| 5 | 5 | 5 | 5 | 5 | 4 | 1 | 5 | 4 | 4 | ⋯ | 3 | 3 | 3 | 4 | 3 | 2 | 3 | 4 | US | 1 |\n| 5 | 4 | 4 | 3 | 5 | 5 | 5 | 3 | 5 | 5 | ⋯ | 2 | 2 | 1 | 5 | 5 | 2 | 1 | 1 | GB | 1 |\n| 5 | 1 | 2 | 2 | 1 | 2 | 4 | 1 | 2 | 2 | ⋯ | 2 | 2 | 4 | 4 | 2 | 4 | 1 | 1 | SE | 3 |\n| 2 | 2 | 3 | 4 | 3 | 3 | 4 | 2 | 4 | 2 | ⋯ | 3 | 3 | 1 | 4 | 4 | 1 | 1 | 2 | GB | 1 |\n| 5 | 3 | 4 | 4 | 3 | 4 | 5 | 4 | 5 | 5 | ⋯ | 2 | 3 | 3 | 2 | 3 | 3 | 3 | 3 | GB | 3 |\n| 4 | 5 | 4 | 5 | 4 | 4 | 5 | 4 | 5 | 3 | ⋯ | 2 | 2 | 1 | 2 | 1 | 5 | 1 | 1 | US | 1 |\n| 4 | 3 | 3 | 4 | 2 | 2 | 5 | 2 | 4 | 3 | ⋯ | 3 | 1 | 2 | 3 | 2 | 3 | 3 | 2 | GB | 3 |\n| 5 | 2 | 4 | 4 | 5 | 4 | 5 | 3 | 4 | 1 | ⋯ | 4 | 3 | 2 | 1 | 2 | 5 | 1 | 2 | GB | 1 |\n| 5 | 4 | 0 | 2 | 4 | 4 | 4 | 4 | 5 | 3 | ⋯ | 4 | 4 | 2 | 4 | 2 | 2 | 2 | 2 | US | 3 |\n| 4 | 4 | 3 | 2 | 1 | 1 | 4 | 2 | 4 | 3 | ⋯ | 3 | 3 | 1 | 3 | 4 | 5 | 5 | 2 | US | 3 |\n| 5 | 3 | 4 | 4 | 4 | 3 | 5 | 3 | 5 | 4 | ⋯ | 4 | 2 | 1 | 2 | 2 | 1 | 3 | 1 | US | 3 |\n| 5 | 1 | 2 | 2 | 4 | 4 | 5 | 2 | 5 | 2 | ⋯ | 2 | 4 | 2 | 4 | 2 | 2 | 1 | 4 | GB | 1 |\n| 4 | 5 | 4 | 3 | 5 | 4 | 4 | 3 | 5 | 5 | ⋯ | 3 | 5 | 4 | 4 | 4 | 4 | 4 | 4 | US | 2 |\n| 2 | 5 | 5 | 5 | 2 | 3 | 4 | 4 | 5 | 5 | ⋯ | 3 | 4 | 4 | 4 | 3 | 2 | 4 | 5 | US | 1 |\n| 5 | 5 | 4 | 4 | 5 | 5 | 5 | 5 | 5 | 4 | ⋯ | 2 | 1 | 2 | 5 | 5 | 2 | 5 | 5 | CA | 2 |\n| 2 | 2 | 2 | 2 | 2 | 2 | 4 | 3 | 4 | 2 | ⋯ | 3 | 2 | 2 | 3 | 2 | 4 | 4 | 2 | US | 1 |\n| 4 | 2 | 3 | 2 | 3 | 3 | 2 | 3 | 2 | 3 | ⋯ | 5 | 2 | 3 | 3 | 2 | 5 | 1 | 1 | CA | 1 |\n| 5 | 4 | 5 | 5 | 4 | 4 | 5 | 1 | 5 | 1 | ⋯ | 1 | 1 | 2 | 2 | 1 | 4 | 5 | 4 | US | 3 |\n| 2 | 2 | 3 | 3 | 2 | 3 | 3 | 2 | 2 | 4 | ⋯ | 3 | 2 | 2 | 2 | 2 | 4 | 2 | 2 | GB | 1 |\n| 4 | 3 | 3 | 2 | 2 | 2 | 4 | 3 | 4 | 2 | ⋯ | 4 | 2 | 2 | 4 | 3 | 5 | 4 | 2 | US | 3 |\n| ⋮ | ⋮ | ⋮ | ⋮ | ⋮ | ⋮ | ⋮ | ⋮ | ⋮ | ⋮ | ⋱ | ⋮ | ⋮ | ⋮ | ⋮ | ⋮ | ⋮ | ⋮ | ⋮ | ⋮ | ⋮ |\n| 4 | 5 | 4 | 4 | 4 | 3 | 5 | 2 | 3 | 3 | ⋯ | 2 | 2 | 4 | 5 | 3 | 4 | 5 | 5 | US | 2 |\n| 4 | 2 | 3 | 4 | 3 | 4 | 4 | 2 | 4 | 2 | ⋯ | 4 | 3 | 4 | 4 | 4 | 4 | 2 | 1 | US | 1 |\n| 5 | 5 | 5 | 5 | 5 | 5 | 5 | 5 | 5 | 3 | ⋯ | 4 | 1 | 1 | 5 | 5 | 1 | 3 | 4 | IE | 1 |\n| 4 | 4 | 2 | 4 | 5 | 5 | 4 | 3 | 5 | 4 | ⋯ | 1 | 4 | 3 | 4 | 5 | 5 | 4 | 5 | US | 1 |\n| 3 | 1 | 3 | 4 | 1 | 2 | 4 | 3 | 4 | 2 | ⋯ | 4 | 2 | 2 | 3 | 2 | 2 | 3 | 4 | US | 2 |\n| 4 | 4 | 5 | 2 | 2 | 4 | 4 | 5 | 5 | 4 | ⋯ | 2 | 3 | 2 | 5 | 4 | 1 | 4 | 1 | US | 3 |\n| 5 | 4 | 4 | 4 | 2 | 4 | 4 | 2 | 2 | 4 | ⋯ | 3 | 2 | 2 | 3 | 2 | 5 | 2 | 1 | NL | 1 |\n| 4 | 4 | 3 | 4 | 3 | 4 | 5 | 3 | 4 | 2 | ⋯ | 1 | 1 | 5 | 4 | 3 | 2 | 2 | 4 | GB | 2 |\n| 3 | 1 | 2 | 2 | 1 | 2 | 4 | 3 | 3 | 2 | ⋯ | 3 | 2 | 1 | 3 | 1 | 5 | 1 | 1 | SE | 2 |\n| 4 | 1 | 3 | 1 | 2 | 4 | 5 | 5 | 5 | 1 | ⋯ | 5 | 1 | 1 | 4 | 1 | 5 | 3 | 1 | AU | 1 |\n| 4 | 5 | 3 | 3 | 4 | 3 | 5 | 4 | 5 | 4 | ⋯ | 4 | 2 | 3 | 5 | 3 | 5 | 1 | 3 | AE | 1 |\n| 5 | 4 | 5 | 5 | 5 | 5 | 4 | 5 | 4 | 3 | ⋯ | 5 | 1 | 1 | 3 | 4 | 5 | 1 | 4 | US | 2 |\n| 4 | 4 | 2 | 2 | 2 | 2 | 0 | 5 | 4 | 3 | ⋯ | 4 | 4 | 4 | 4 | 2 | 1 | 4 | 1 | FI | 3 |\n| 4 | 3 | 3 | 4 | 3 | 5 | 1 | 4 | 5 | 4 | ⋯ | 3 | 5 | 3 | 5 | 3 | 1 | 3 | 4 | LK | 1 |\n| 4 | 4 | 4 | 5 | 4 | 3 | 4 | 3 | 5 | 3 | ⋯ | 1 | 3 | 2 | 4 | 2 | 5 | 5 | 3 | US | 3 |\n| 5 | 4 | 4 | 3 | 3 | 3 | 5 | 4 | 3 | 5 | ⋯ | 5 | 2 | 1 | 5 | 4 | 5 | 1 | 1 | US | 1 |\n| 5 | 4 | 3 | 4 | 5 | 5 | 5 | 1 | 4 | 3 | ⋯ | 1 | 5 | 1 | 4 | 5 | 5 | 4 | 5 | SE | 3 |\n| 5 | 3 | 5 | 5 | 5 | 2 | 5 | 4 | 5 | 2 | ⋯ | 2 | 1 | 1 | 1 | 2 | 5 | 3 | 5 | GB | 1 |\n| 4 | 4 | 4 | 3 | 4 | 4 | 4 | 4 | 4 | 4 | ⋯ | 3 | 4 | 4 | 4 | 3 | 4 | 1 | 4 | US | 2 |\n| 4 | 5 | 5 | 4 | 5 | 4 | 5 | 5 | 5 | 4 | ⋯ | 1 | 2 | 4 | 5 | 5 | 1 | 5 | 5 | US | 2 |\n| 5 | 5 | 1 | 5 | 5 | 5 | 5 | 5 | 5 | 3 | ⋯ | 1 | 5 | 5 | 5 | 5 | 1 | 3 | 1 | MK | 1 |\n| 5 | 1 | 2 | 4 | 2 | 3 | 4 | 2 | 4 | 2 | ⋯ | 5 | 1 | 1 | 4 | 2 | 5 | 1 | 1 | US | 1 |\n| 5 | 5 | 5 | 4 | 2 | 5 | 5 | 4 | 5 | 5 | ⋯ | 2 | 5 | 5 | 5 | 3 | 1 | 5 | 2 | US | 3 |\n| 4 | 4 | 3 | 1 | 4 | 4 | 5 | 5 | 5 | 2 | ⋯ | 4 | 5 | 2 | 5 | 3 | 4 | 1 | 4 | US | 1 |\n| 4 | 5 | 4 | 5 | 5 | 5 | 5 | 4 | 5 | 2 | ⋯ | 4 | 3 | 4 | 5 | 4 | 1 | 4 | 5 | US | 1 |\n| 1 | 5 | 2 | 4 | 4 | 5 | 4 | 3 | 5 | 4 | ⋯ | 3 | 3 | 3 | 5 | 3 | 2 | 3 | 3 | US | 2 |\n| 5 | 4 | 5 | 4 | 5 | 4 | 5 | 4 | 5 | 4 | ⋯ | 2 | 2 | 1 | 5 | 2 | 2 | 3 | 4 | GB | 1 |\n| 4 | 3 | 3 | 4 | 2 | 3 | 4 | 3 | 4 | 3 | ⋯ | 5 | 3 | 1 | 1 | 1 | 2 | 4 | 1 | US | 2 |\n| 5 | 4 | 3 | 3 | 4 | 4 | 4 | 3 | 4 | 3 | ⋯ | 3 | 3 | 4 | 4 | 3 | 4 | 1 | 3 | LK | 2 |\n| 4 | 4 | 4 | 5 | 3 | 4 | 4 | 3 | 3 | 3 | ⋯ | 3 | 3 | 2 | 4 | 3 | 3 | 4 | 4 | US | 1 |\n\n",
            "text/latex": "A data.frame: 18192 × 29\n\\begin{tabular}{lllllllllllllllllllll}\n M1 & M2 & M3 & M4 & M5 & M6 & M7 & M8 & M9 & N1 & ⋯ & P2 & P3 & P4 & P5 & P6 & P7 & P8 & P9 & country & source\\\\\n <int> & <int> & <int> & <int> & <int> & <int> & <int> & <int> & <int> & <int> & ⋯ & <int> & <int> & <int> & <int> & <int> & <int> & <int> & <int> & <chr> & <int>\\\\\n\\hline\n\t 4 & 4 & 4 & 4 & 4 & 4 & 4 & 3 & 4 & 2 & ⋯ & 4 & 3 & 2 & 4 & 4 & 4 & 4 & 4 & GB & 1\\\\\n\t 2 & 1 & 5 & 2 & 2 & 1 & 2 & 2 & 3 & 1 & ⋯ & 1 & 1 & 5 & 4 & 1 & 5 & 3 & 2 & US & 1\\\\\n\t 3 & 3 & 3 & 5 & 1 & 1 & 5 & 5 & 3 & 2 & ⋯ & 5 & 3 & 1 & 3 & 1 & 2 & 3 & 1 & US & 1\\\\\n\t 5 & 5 & 4 & 5 & 5 & 5 & 5 & 5 & 5 & 5 & ⋯ & 1 & 5 & 2 & 5 & 5 & 5 & 1 & 5 & GB & 3\\\\\n\t 4 & 4 & 2 & 5 & 5 & 5 & 4 & 1 & 4 & 3 & ⋯ & 5 & 3 & 1 & 4 & 3 & 5 & 4 & 1 & GB & 3\\\\\n\t 4 & 2 & 2 & 4 & 2 & 3 & 5 & 2 & 2 & 2 & ⋯ & 5 & 4 & 4 & 2 & 2 & 1 & 1 & 5 & IT & 1\\\\\n\t 4 & 4 & 4 & 2 & 4 & 4 & 4 & 3 & 5 & 4 & ⋯ & 2 & 4 & 2 & 4 & 3 & 4 & 4 & 3 & GB & 1\\\\\n\t 5 & 5 & 5 & 5 & 5 & 5 & 5 & 4 & 5 & 4 & ⋯ & 5 & 2 & 5 & 5 & 5 & 2 & 5 & 3 & GB & 1\\\\\n\t 5 & 3 & 4 & 4 & 4 & 4 & 4 & 2 & 4 & 3 & ⋯ & 2 & 4 & 3 & 4 & 4 & 1 & 2 & 1 & US & 1\\\\\n\t 5 & 5 & 5 & 3 & 5 & 5 & 5 & 5 & 5 & 5 & ⋯ & 2 & 5 & 5 & 5 & 5 & 5 & 3 & 5 & US & 1\\\\\n\t 5 & 5 & 5 & 5 & 5 & 4 & 1 & 5 & 4 & 4 & ⋯ & 3 & 3 & 3 & 4 & 3 & 2 & 3 & 4 & US & 1\\\\\n\t 5 & 4 & 4 & 3 & 5 & 5 & 5 & 3 & 5 & 5 & ⋯ & 2 & 2 & 1 & 5 & 5 & 2 & 1 & 1 & GB & 1\\\\\n\t 5 & 1 & 2 & 2 & 1 & 2 & 4 & 1 & 2 & 2 & ⋯ & 2 & 2 & 4 & 4 & 2 & 4 & 1 & 1 & SE & 3\\\\\n\t 2 & 2 & 3 & 4 & 3 & 3 & 4 & 2 & 4 & 2 & ⋯ & 3 & 3 & 1 & 4 & 4 & 1 & 1 & 2 & GB & 1\\\\\n\t 5 & 3 & 4 & 4 & 3 & 4 & 5 & 4 & 5 & 5 & ⋯ & 2 & 3 & 3 & 2 & 3 & 3 & 3 & 3 & GB & 3\\\\\n\t 4 & 5 & 4 & 5 & 4 & 4 & 5 & 4 & 5 & 3 & ⋯ & 2 & 2 & 1 & 2 & 1 & 5 & 1 & 1 & US & 1\\\\\n\t 4 & 3 & 3 & 4 & 2 & 2 & 5 & 2 & 4 & 3 & ⋯ & 3 & 1 & 2 & 3 & 2 & 3 & 3 & 2 & GB & 3\\\\\n\t 5 & 2 & 4 & 4 & 5 & 4 & 5 & 3 & 4 & 1 & ⋯ & 4 & 3 & 2 & 1 & 2 & 5 & 1 & 2 & GB & 1\\\\\n\t 5 & 4 & 0 & 2 & 4 & 4 & 4 & 4 & 5 & 3 & ⋯ & 4 & 4 & 2 & 4 & 2 & 2 & 2 & 2 & US & 3\\\\\n\t 4 & 4 & 3 & 2 & 1 & 1 & 4 & 2 & 4 & 3 & ⋯ & 3 & 3 & 1 & 3 & 4 & 5 & 5 & 2 & US & 3\\\\\n\t 5 & 3 & 4 & 4 & 4 & 3 & 5 & 3 & 5 & 4 & ⋯ & 4 & 2 & 1 & 2 & 2 & 1 & 3 & 1 & US & 3\\\\\n\t 5 & 1 & 2 & 2 & 4 & 4 & 5 & 2 & 5 & 2 & ⋯ & 2 & 4 & 2 & 4 & 2 & 2 & 1 & 4 & GB & 1\\\\\n\t 4 & 5 & 4 & 3 & 5 & 4 & 4 & 3 & 5 & 5 & ⋯ & 3 & 5 & 4 & 4 & 4 & 4 & 4 & 4 & US & 2\\\\\n\t 2 & 5 & 5 & 5 & 2 & 3 & 4 & 4 & 5 & 5 & ⋯ & 3 & 4 & 4 & 4 & 3 & 2 & 4 & 5 & US & 1\\\\\n\t 5 & 5 & 4 & 4 & 5 & 5 & 5 & 5 & 5 & 4 & ⋯ & 2 & 1 & 2 & 5 & 5 & 2 & 5 & 5 & CA & 2\\\\\n\t 2 & 2 & 2 & 2 & 2 & 2 & 4 & 3 & 4 & 2 & ⋯ & 3 & 2 & 2 & 3 & 2 & 4 & 4 & 2 & US & 1\\\\\n\t 4 & 2 & 3 & 2 & 3 & 3 & 2 & 3 & 2 & 3 & ⋯ & 5 & 2 & 3 & 3 & 2 & 5 & 1 & 1 & CA & 1\\\\\n\t 5 & 4 & 5 & 5 & 4 & 4 & 5 & 1 & 5 & 1 & ⋯ & 1 & 1 & 2 & 2 & 1 & 4 & 5 & 4 & US & 3\\\\\n\t 2 & 2 & 3 & 3 & 2 & 3 & 3 & 2 & 2 & 4 & ⋯ & 3 & 2 & 2 & 2 & 2 & 4 & 2 & 2 & GB & 1\\\\\n\t 4 & 3 & 3 & 2 & 2 & 2 & 4 & 3 & 4 & 2 & ⋯ & 4 & 2 & 2 & 4 & 3 & 5 & 4 & 2 & US & 3\\\\\n\t ⋮ & ⋮ & ⋮ & ⋮ & ⋮ & ⋮ & ⋮ & ⋮ & ⋮ & ⋮ & ⋱ & ⋮ & ⋮ & ⋮ & ⋮ & ⋮ & ⋮ & ⋮ & ⋮ & ⋮ & ⋮\\\\\n\t 4 & 5 & 4 & 4 & 4 & 3 & 5 & 2 & 3 & 3 & ⋯ & 2 & 2 & 4 & 5 & 3 & 4 & 5 & 5 & US & 2\\\\\n\t 4 & 2 & 3 & 4 & 3 & 4 & 4 & 2 & 4 & 2 & ⋯ & 4 & 3 & 4 & 4 & 4 & 4 & 2 & 1 & US & 1\\\\\n\t 5 & 5 & 5 & 5 & 5 & 5 & 5 & 5 & 5 & 3 & ⋯ & 4 & 1 & 1 & 5 & 5 & 1 & 3 & 4 & IE & 1\\\\\n\t 4 & 4 & 2 & 4 & 5 & 5 & 4 & 3 & 5 & 4 & ⋯ & 1 & 4 & 3 & 4 & 5 & 5 & 4 & 5 & US & 1\\\\\n\t 3 & 1 & 3 & 4 & 1 & 2 & 4 & 3 & 4 & 2 & ⋯ & 4 & 2 & 2 & 3 & 2 & 2 & 3 & 4 & US & 2\\\\\n\t 4 & 4 & 5 & 2 & 2 & 4 & 4 & 5 & 5 & 4 & ⋯ & 2 & 3 & 2 & 5 & 4 & 1 & 4 & 1 & US & 3\\\\\n\t 5 & 4 & 4 & 4 & 2 & 4 & 4 & 2 & 2 & 4 & ⋯ & 3 & 2 & 2 & 3 & 2 & 5 & 2 & 1 & NL & 1\\\\\n\t 4 & 4 & 3 & 4 & 3 & 4 & 5 & 3 & 4 & 2 & ⋯ & 1 & 1 & 5 & 4 & 3 & 2 & 2 & 4 & GB & 2\\\\\n\t 3 & 1 & 2 & 2 & 1 & 2 & 4 & 3 & 3 & 2 & ⋯ & 3 & 2 & 1 & 3 & 1 & 5 & 1 & 1 & SE & 2\\\\\n\t 4 & 1 & 3 & 1 & 2 & 4 & 5 & 5 & 5 & 1 & ⋯ & 5 & 1 & 1 & 4 & 1 & 5 & 3 & 1 & AU & 1\\\\\n\t 4 & 5 & 3 & 3 & 4 & 3 & 5 & 4 & 5 & 4 & ⋯ & 4 & 2 & 3 & 5 & 3 & 5 & 1 & 3 & AE & 1\\\\\n\t 5 & 4 & 5 & 5 & 5 & 5 & 4 & 5 & 4 & 3 & ⋯ & 5 & 1 & 1 & 3 & 4 & 5 & 1 & 4 & US & 2\\\\\n\t 4 & 4 & 2 & 2 & 2 & 2 & 0 & 5 & 4 & 3 & ⋯ & 4 & 4 & 4 & 4 & 2 & 1 & 4 & 1 & FI & 3\\\\\n\t 4 & 3 & 3 & 4 & 3 & 5 & 1 & 4 & 5 & 4 & ⋯ & 3 & 5 & 3 & 5 & 3 & 1 & 3 & 4 & LK & 1\\\\\n\t 4 & 4 & 4 & 5 & 4 & 3 & 4 & 3 & 5 & 3 & ⋯ & 1 & 3 & 2 & 4 & 2 & 5 & 5 & 3 & US & 3\\\\\n\t 5 & 4 & 4 & 3 & 3 & 3 & 5 & 4 & 3 & 5 & ⋯ & 5 & 2 & 1 & 5 & 4 & 5 & 1 & 1 & US & 1\\\\\n\t 5 & 4 & 3 & 4 & 5 & 5 & 5 & 1 & 4 & 3 & ⋯ & 1 & 5 & 1 & 4 & 5 & 5 & 4 & 5 & SE & 3\\\\\n\t 5 & 3 & 5 & 5 & 5 & 2 & 5 & 4 & 5 & 2 & ⋯ & 2 & 1 & 1 & 1 & 2 & 5 & 3 & 5 & GB & 1\\\\\n\t 4 & 4 & 4 & 3 & 4 & 4 & 4 & 4 & 4 & 4 & ⋯ & 3 & 4 & 4 & 4 & 3 & 4 & 1 & 4 & US & 2\\\\\n\t 4 & 5 & 5 & 4 & 5 & 4 & 5 & 5 & 5 & 4 & ⋯ & 1 & 2 & 4 & 5 & 5 & 1 & 5 & 5 & US & 2\\\\\n\t 5 & 5 & 1 & 5 & 5 & 5 & 5 & 5 & 5 & 3 & ⋯ & 1 & 5 & 5 & 5 & 5 & 1 & 3 & 1 & MK & 1\\\\\n\t 5 & 1 & 2 & 4 & 2 & 3 & 4 & 2 & 4 & 2 & ⋯ & 5 & 1 & 1 & 4 & 2 & 5 & 1 & 1 & US & 1\\\\\n\t 5 & 5 & 5 & 4 & 2 & 5 & 5 & 4 & 5 & 5 & ⋯ & 2 & 5 & 5 & 5 & 3 & 1 & 5 & 2 & US & 3\\\\\n\t 4 & 4 & 3 & 1 & 4 & 4 & 5 & 5 & 5 & 2 & ⋯ & 4 & 5 & 2 & 5 & 3 & 4 & 1 & 4 & US & 1\\\\\n\t 4 & 5 & 4 & 5 & 5 & 5 & 5 & 4 & 5 & 2 & ⋯ & 4 & 3 & 4 & 5 & 4 & 1 & 4 & 5 & US & 1\\\\\n\t 1 & 5 & 2 & 4 & 4 & 5 & 4 & 3 & 5 & 4 & ⋯ & 3 & 3 & 3 & 5 & 3 & 2 & 3 & 3 & US & 2\\\\\n\t 5 & 4 & 5 & 4 & 5 & 4 & 5 & 4 & 5 & 4 & ⋯ & 2 & 2 & 1 & 5 & 2 & 2 & 3 & 4 & GB & 1\\\\\n\t 4 & 3 & 3 & 4 & 2 & 3 & 4 & 3 & 4 & 3 & ⋯ & 5 & 3 & 1 & 1 & 1 & 2 & 4 & 1 & US & 2\\\\\n\t 5 & 4 & 3 & 3 & 4 & 4 & 4 & 3 & 4 & 3 & ⋯ & 3 & 3 & 4 & 4 & 3 & 4 & 1 & 3 & LK & 2\\\\\n\t 4 & 4 & 4 & 5 & 3 & 4 & 4 & 3 & 3 & 3 & ⋯ & 3 & 3 & 2 & 4 & 3 & 3 & 4 & 4 & US & 1\\\\\n\\end{tabular}\n"
          },
          "metadata": {}
        }
      ]
    },
    {
      "cell_type": "code",
      "source": [
        "describe(dane[,1:9])"
      ],
      "metadata": {
        "colab": {
          "base_uri": "https://localhost:8080/",
          "height": 380
        },
        "id": "d_dkdSZdt3sp",
        "outputId": "23932c88-df28-42de-a7b5-fcf6aa6f648c"
      },
      "execution_count": 14,
      "outputs": [
        {
          "output_type": "display_data",
          "data": {
            "text/html": [
              "<table class=\"dataframe\">\n",
              "<caption>A psych: 9 × 13</caption>\n",
              "<thead>\n",
              "\t<tr><th></th><th scope=col>vars</th><th scope=col>n</th><th scope=col>mean</th><th scope=col>sd</th><th scope=col>median</th><th scope=col>trimmed</th><th scope=col>mad</th><th scope=col>min</th><th scope=col>max</th><th scope=col>range</th><th scope=col>skew</th><th scope=col>kurtosis</th><th scope=col>se</th></tr>\n",
              "\t<tr><th></th><th scope=col>&lt;int&gt;</th><th scope=col>&lt;dbl&gt;</th><th scope=col>&lt;dbl&gt;</th><th scope=col>&lt;dbl&gt;</th><th scope=col>&lt;dbl&gt;</th><th scope=col>&lt;dbl&gt;</th><th scope=col>&lt;dbl&gt;</th><th scope=col>&lt;dbl&gt;</th><th scope=col>&lt;dbl&gt;</th><th scope=col>&lt;dbl&gt;</th><th scope=col>&lt;dbl&gt;</th><th scope=col>&lt;dbl&gt;</th><th scope=col>&lt;dbl&gt;</th></tr>\n",
              "</thead>\n",
              "<tbody>\n",
              "\t<tr><th scope=row>M1</th><td>1</td><td>18192</td><td>4.179035</td><td>0.9626036</td><td>4</td><td>4.345266</td><td>1.4826</td><td>0</td><td>5</td><td>5</td><td>-1.2943555</td><td> 1.4144153</td><td>0.007136861</td></tr>\n",
              "\t<tr><th scope=row>M2</th><td>2</td><td>18192</td><td>3.476913</td><td>1.2700009</td><td>4</td><td>3.588910</td><td>1.4826</td><td>0</td><td>5</td><td>5</td><td>-0.5302569</td><td>-0.7823566</td><td>0.009415942</td></tr>\n",
              "\t<tr><th scope=row>M3</th><td>3</td><td>18192</td><td>3.363017</td><td>1.2054755</td><td>3</td><td>3.419610</td><td>1.4826</td><td>0</td><td>5</td><td>5</td><td>-0.2968153</td><td>-0.8543005</td><td>0.008937544</td></tr>\n",
              "\t<tr><th scope=row>M4</th><td>4</td><td>18192</td><td>3.501704</td><td>1.1901310</td><td>4</td><td>3.590078</td><td>1.4826</td><td>0</td><td>5</td><td>5</td><td>-0.5672296</td><td>-0.6172385</td><td>0.008823777</td></tr>\n",
              "\t<tr><th scope=row>M5</th><td>5</td><td>18192</td><td>3.569536</td><td>1.3161221</td><td>4</td><td>3.713618</td><td>1.4826</td><td>0</td><td>5</td><td>5</td><td>-0.6276350</td><td>-0.7682909</td><td>0.009757891</td></tr>\n",
              "\t<tr><th scope=row>M6</th><td>6</td><td>18192</td><td>3.649516</td><td>1.2745164</td><td>4</td><td>3.803903</td><td>1.4826</td><td>0</td><td>5</td><td>5</td><td>-0.7410721</td><td>-0.4930978</td><td>0.009449421</td></tr>\n",
              "\t<tr><th scope=row>M7</th><td>7</td><td>18192</td><td>4.376649</td><td>0.8703927</td><td>5</td><td>4.552425</td><td>0.0000</td><td>0</td><td>5</td><td>5</td><td>-1.7618028</td><td> 3.5762033</td><td>0.006453198</td></tr>\n",
              "\t<tr><th scope=row>M8</th><td>8</td><td>18192</td><td>3.160400</td><td>1.2445903</td><td>3</td><td>3.202762</td><td>1.4826</td><td>0</td><td>5</td><td>5</td><td>-0.1029975</td><td>-0.9874129</td><td>0.009227546</td></tr>\n",
              "\t<tr><th scope=row>M9</th><td>9</td><td>18192</td><td>4.074263</td><td>0.9988358</td><td>4</td><td>4.237186</td><td>1.4826</td><td>0</td><td>5</td><td>5</td><td>-1.2186199</td><td> 1.2940568</td><td>0.007405492</td></tr>\n",
              "</tbody>\n",
              "</table>\n"
            ],
            "text/markdown": "\nA psych: 9 × 13\n\n| <!--/--> | vars &lt;int&gt; | n &lt;dbl&gt; | mean &lt;dbl&gt; | sd &lt;dbl&gt; | median &lt;dbl&gt; | trimmed &lt;dbl&gt; | mad &lt;dbl&gt; | min &lt;dbl&gt; | max &lt;dbl&gt; | range &lt;dbl&gt; | skew &lt;dbl&gt; | kurtosis &lt;dbl&gt; | se &lt;dbl&gt; |\n|---|---|---|---|---|---|---|---|---|---|---|---|---|---|\n| M1 | 1 | 18192 | 4.179035 | 0.9626036 | 4 | 4.345266 | 1.4826 | 0 | 5 | 5 | -1.2943555 |  1.4144153 | 0.007136861 |\n| M2 | 2 | 18192 | 3.476913 | 1.2700009 | 4 | 3.588910 | 1.4826 | 0 | 5 | 5 | -0.5302569 | -0.7823566 | 0.009415942 |\n| M3 | 3 | 18192 | 3.363017 | 1.2054755 | 3 | 3.419610 | 1.4826 | 0 | 5 | 5 | -0.2968153 | -0.8543005 | 0.008937544 |\n| M4 | 4 | 18192 | 3.501704 | 1.1901310 | 4 | 3.590078 | 1.4826 | 0 | 5 | 5 | -0.5672296 | -0.6172385 | 0.008823777 |\n| M5 | 5 | 18192 | 3.569536 | 1.3161221 | 4 | 3.713618 | 1.4826 | 0 | 5 | 5 | -0.6276350 | -0.7682909 | 0.009757891 |\n| M6 | 6 | 18192 | 3.649516 | 1.2745164 | 4 | 3.803903 | 1.4826 | 0 | 5 | 5 | -0.7410721 | -0.4930978 | 0.009449421 |\n| M7 | 7 | 18192 | 4.376649 | 0.8703927 | 5 | 4.552425 | 0.0000 | 0 | 5 | 5 | -1.7618028 |  3.5762033 | 0.006453198 |\n| M8 | 8 | 18192 | 3.160400 | 1.2445903 | 3 | 3.202762 | 1.4826 | 0 | 5 | 5 | -0.1029975 | -0.9874129 | 0.009227546 |\n| M9 | 9 | 18192 | 4.074263 | 0.9988358 | 4 | 4.237186 | 1.4826 | 0 | 5 | 5 | -1.2186199 |  1.2940568 | 0.007405492 |\n\n",
            "text/latex": "A psych: 9 × 13\n\\begin{tabular}{r|lllllllllllll}\n  & vars & n & mean & sd & median & trimmed & mad & min & max & range & skew & kurtosis & se\\\\\n  & <int> & <dbl> & <dbl> & <dbl> & <dbl> & <dbl> & <dbl> & <dbl> & <dbl> & <dbl> & <dbl> & <dbl> & <dbl>\\\\\n\\hline\n\tM1 & 1 & 18192 & 4.179035 & 0.9626036 & 4 & 4.345266 & 1.4826 & 0 & 5 & 5 & -1.2943555 &  1.4144153 & 0.007136861\\\\\n\tM2 & 2 & 18192 & 3.476913 & 1.2700009 & 4 & 3.588910 & 1.4826 & 0 & 5 & 5 & -0.5302569 & -0.7823566 & 0.009415942\\\\\n\tM3 & 3 & 18192 & 3.363017 & 1.2054755 & 3 & 3.419610 & 1.4826 & 0 & 5 & 5 & -0.2968153 & -0.8543005 & 0.008937544\\\\\n\tM4 & 4 & 18192 & 3.501704 & 1.1901310 & 4 & 3.590078 & 1.4826 & 0 & 5 & 5 & -0.5672296 & -0.6172385 & 0.008823777\\\\\n\tM5 & 5 & 18192 & 3.569536 & 1.3161221 & 4 & 3.713618 & 1.4826 & 0 & 5 & 5 & -0.6276350 & -0.7682909 & 0.009757891\\\\\n\tM6 & 6 & 18192 & 3.649516 & 1.2745164 & 4 & 3.803903 & 1.4826 & 0 & 5 & 5 & -0.7410721 & -0.4930978 & 0.009449421\\\\\n\tM7 & 7 & 18192 & 4.376649 & 0.8703927 & 5 & 4.552425 & 0.0000 & 0 & 5 & 5 & -1.7618028 &  3.5762033 & 0.006453198\\\\\n\tM8 & 8 & 18192 & 3.160400 & 1.2445903 & 3 & 3.202762 & 1.4826 & 0 & 5 & 5 & -0.1029975 & -0.9874129 & 0.009227546\\\\\n\tM9 & 9 & 18192 & 4.074263 & 0.9988358 & 4 & 4.237186 & 1.4826 & 0 & 5 & 5 & -1.2186199 &  1.2940568 & 0.007405492\\\\\n\\end{tabular}\n",
            "text/plain": [
              "   vars n     mean     sd        median trimmed  mad    min max range\n",
              "M1 1    18192 4.179035 0.9626036 4      4.345266 1.4826 0   5   5    \n",
              "M2 2    18192 3.476913 1.2700009 4      3.588910 1.4826 0   5   5    \n",
              "M3 3    18192 3.363017 1.2054755 3      3.419610 1.4826 0   5   5    \n",
              "M4 4    18192 3.501704 1.1901310 4      3.590078 1.4826 0   5   5    \n",
              "M5 5    18192 3.569536 1.3161221 4      3.713618 1.4826 0   5   5    \n",
              "M6 6    18192 3.649516 1.2745164 4      3.803903 1.4826 0   5   5    \n",
              "M7 7    18192 4.376649 0.8703927 5      4.552425 0.0000 0   5   5    \n",
              "M8 8    18192 3.160400 1.2445903 3      3.202762 1.4826 0   5   5    \n",
              "M9 9    18192 4.074263 0.9988358 4      4.237186 1.4826 0   5   5    \n",
              "   skew       kurtosis   se         \n",
              "M1 -1.2943555  1.4144153 0.007136861\n",
              "M2 -0.5302569 -0.7823566 0.009415942\n",
              "M3 -0.2968153 -0.8543005 0.008937544\n",
              "M4 -0.5672296 -0.6172385 0.008823777\n",
              "M5 -0.6276350 -0.7682909 0.009757891\n",
              "M6 -0.7410721 -0.4930978 0.009449421\n",
              "M7 -1.7618028  3.5762033 0.006453198\n",
              "M8 -0.1029975 -0.9874129 0.009227546\n",
              "M9 -1.2186199  1.2940568 0.007405492"
            ]
          },
          "metadata": {}
        }
      ]
    }
  ]
}